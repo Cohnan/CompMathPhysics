{
 "cells": [
  {
   "cell_type": "code",
   "execution_count": 1,
   "metadata": {
    "collapsed": false
   },
   "outputs": [
    {
     "name": "stdout",
     "output_type": "stream",
     "text": [
      "Populating the interactive namespace from numpy and matplotlib\n"
     ]
    }
   ],
   "source": [
    "%pylab inline"
   ]
  },
  {
   "cell_type": "markdown",
   "metadata": {},
   "source": [
    "#[Hands-on 13](https://github.com/ComputoCienciasUniandes/MetodosComputacionales/blob/master/hands_on/HandsOn-13.md)\n",
    "\n",
    "Sebastian Puerto, 201318518\n",
    "\n",
    "Métodos Computacionales, 2015-19"
   ]
  },
  {
   "cell_type": "code",
   "execution_count": 12,
   "metadata": {
    "collapsed": true
   },
   "outputs": [],
   "source": [
    "from scipy.interpolate import lagrange\n",
    "from sympy import *\n",
    "\n",
    "init_printing(use_unicode = True)"
   ]
  },
  {
   "cell_type": "code",
   "execution_count": 29,
   "metadata": {
    "collapsed": false
   },
   "outputs": [],
   "source": [
    "h, t, tn, fn, fn1, fn2, fn3 = symbols('h t t_n f_{n} f_{n-1} f_{n-2} f_{n-3}')\n",
    "\n",
    "tn1 = tn - h\n",
    "tn2 = tn1 - h\n",
    "tn3 = tn2 - h"
   ]
  },
  {
   "cell_type": "markdown",
   "metadata": {},
   "source": [
    "## Orden 1"
   ]
  },
  {
   "cell_type": "code",
   "execution_count": 31,
   "metadata": {
    "collapsed": false
   },
   "outputs": [
    {
     "data": {
      "image/png": "[encoded data removed]",
      "text/latex": [
       "$$\\frac{h}{2} \\left(- f_{{n-1}} + 3 f_{{n}}\\right)$$"
      ],
      "text/plain": [
       "h⋅(-f_{n-1} + 3⋅f_{n})\n",
       "──────────────────────\n",
       "          2           "
      ]
     },
     "execution_count": 31,
     "metadata": {},
     "output_type": "execute_result"
    }
   ],
   "source": [
    "simplify(\n",
    "    integrate(\n",
    "        fn * (t - tn1)/(tn - tn1) + fn1 * (t - tn)/(tn1 - tn),\n",
    "        (t, tn, tn + h))\n",
    "    )"
   ]
  },
  {
   "cell_type": "markdown",
   "metadata": {},
   "source": [
    "## Orden 2"
   ]
  },
  {
   "cell_type": "code",
   "execution_count": 33,
   "metadata": {
    "collapsed": false
   },
   "outputs": [
    {
     "data": {
      "image/png": "[encoded data removed]",
      "text/latex": [
       "$$\\frac{h}{12} \\left(- 16 f_{{n-1}} + 5 f_{{n-2}} + 23 f_{{n}}\\right)$$"
      ],
      "text/plain": [
       "h⋅(-16⋅f_{n-1} + 5⋅f_{n-2} + 23⋅f_{n})\n",
       "──────────────────────────────────────\n",
       "                  12                  "
      ]
     },
     "execution_count": 33,
     "metadata": {},
     "output_type": "execute_result"
    }
   ],
   "source": [
    "simplify(\n",
    "    integrate(\n",
    "        fn  * ((t - tn1) * (t - tn2))/((tn - tn1) * (tn - tn2)) + \n",
    "        fn1 * ((t - tn) * (t - tn2))/((tn1 - tn) * (tn1 - tn2)) +\n",
    "        fn2 * ((t - tn) * (t - tn1))/((tn2 - tn) * (tn2 - tn1)),\n",
    "        (t, tn, tn + h))\n",
    "    )"
   ]
  },
  {
   "cell_type": "markdown",
   "metadata": {},
   "source": [
    "## Orden 3"
   ]
  },
  {
   "cell_type": "code",
   "execution_count": 34,
   "metadata": {
    "collapsed": false
   },
   "outputs": [
    {
     "data": {
      "image/png": "[encoded data removed]",
      "text/latex": [
       "$$\\frac{h}{24} \\left(- 59 f_{{n-1}} + 37 f_{{n-2}} - 9 f_{{n-3}} + 55 f_{{n}}\\right)$$"
      ],
      "text/plain": [
       "h⋅(-59⋅f_{n-1} + 37⋅f_{n-2} - 9⋅f_{n-3} + 55⋅f_{n})\n",
       "───────────────────────────────────────────────────\n",
       "                         24                        "
      ]
     },
     "execution_count": 34,
     "metadata": {},
     "output_type": "execute_result"
    }
   ],
   "source": [
    "simplify(\n",
    "    integrate(\n",
    "        fn  * ((t - tn1) * (t - tn2) * (t - tn3))/((tn - tn1) * (tn - tn2) * (tn - tn3)) + \n",
    "        fn1 * ((t - tn) * (t - tn2) * (t - tn3))/((tn1 - tn) * (tn1 - tn2) * (tn1 - tn3)) +\n",
    "        fn2 * ((t - tn) * (t - tn1) * (t - tn3))/((tn2 - tn) * (tn2 - tn1) * (tn2 - tn3)) +\n",
    "        fn3 * ((t - tn) * (t - tn1) * (t - tn2))/((tn3 - tn) * (tn3 - tn1) * (tn3 - tn2)),\n",
    "        (t, tn, tn + h))\n",
    "    )"
   ]
  }
 ],
 "metadata": {
  "kernelspec": {
   "display_name": "Python 2",
   "language": "python",
   "name": "python2"
  },
  "language_info": {
   "codemirror_mode": {
    "name": "ipython",
    "version": 2
   },
   "file_extension": ".py",
   "mimetype": "text/x-python",
   "name": "python",
   "nbconvert_exporter": "python",
   "pygments_lexer": "ipython2",
   "version": "2.7.6"
  }
 },
 "nbformat": 4,
 "nbformat_minor": 0
}
