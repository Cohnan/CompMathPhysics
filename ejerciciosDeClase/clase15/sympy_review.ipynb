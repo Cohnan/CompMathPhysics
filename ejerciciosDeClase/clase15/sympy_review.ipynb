{
 "cells": [
  {
   "cell_type": "code",
   "execution_count": 23,
   "metadata": {
    "collapsed": true
   },
   "outputs": [],
   "source": [
    "from sympy import *"
   ]
  },
  {
   "cell_type": "code",
   "execution_count": 22,
   "metadata": {
    "collapsed": true
   },
   "outputs": [],
   "source": [
    "init_printing(use_unicode = True)  # Para que utilice los caracteres de Unicode para renderizar bonito"
   ]
  },
  {
   "cell_type": "markdown",
   "metadata": {},
   "source": [
    "#Adam Bashford 2do Orden"
   ]
  },
  {
   "cell_type": "code",
   "execution_count": 19,
   "metadata": {
    "collapsed": true
   },
   "outputs": [],
   "source": [
    "t, fn, fn1, h, tn, tn1 = symbols('t f_n f_{n+1} h t_n t_{n+1}')"
   ]
  },
  {
   "cell_type": "code",
   "execution_count": 20,
   "metadata": {
    "collapsed": false
   },
   "outputs": [
    {
     "data": {
      "image/png": "[encoded data removed]",
      "text/latex": [
       "$$- \\frac{t_{n}^{2} \\left(f_{n} - f_{{n+1}}\\right)}{2 t_{n} - 2 t_{{n+1}}} - \\frac{t_{n}}{t_{n} - t_{{n+1}}} \\left(- f_{n} t_{{n+1}} + f_{{n+1}} t_{n}\\right) + \\frac{\\left(f_{n} - f_{{n+1}}\\right) \\left(h + t_{n}\\right)^{2}}{2 t_{n} - 2 t_{{n+1}}} + \\frac{1}{t_{n} - t_{{n+1}}} \\left(h + t_{n}\\right) \\left(- f_{n} t_{{n+1}} + f_{{n+1}} t_{n}\\right)$$"
      ],
      "text/plain": [
       "     2                                                                        \n",
       "  t_n ⋅(f_n - f_{n+1})   t_n⋅(-f_n⋅t_{n+1} + f_{n+1}⋅t_n)   (f_n - f_{n+1})⋅(h\n",
       "- ──────────────────── - ──────────────────────────────── + ──────────────────\n",
       "   2⋅t_n - 2⋅t_{n+1}              t_n - t_{n+1}                 2⋅t_n - 2⋅t_{n\n",
       "\n",
       "       2                                         \n",
       " + t_n)    (h + t_n)⋅(-f_n⋅t_{n+1} + f_{n+1}⋅t_n)\n",
       "──────── + ──────────────────────────────────────\n",
       "+1}                    t_n - t_{n+1}             "
      ]
     },
     "execution_count": 20,
     "metadata": {},
     "output_type": "execute_result"
    }
   ],
   "source": [
    "integrate(fn1* (t-tn)/(tn1 - tn) + fn* (t-tn1)/(tn-tn1), (t, tn, tn + h))"
   ]
  },
  {
   "cell_type": "code",
   "execution_count": 21,
   "metadata": {
    "collapsed": false
   },
   "outputs": [
    {
     "data": {
      "image/png": "[encoded data removed]",
      "text/latex": [
       "$$\\frac{h}{2 t_{n} - 2 t_{{n+1}}} \\left(f_{n} h + 2 f_{n} t_{n} - 2 f_{n} t_{{n+1}} - f_{{n+1}} h\\right)$$"
      ],
      "text/plain": [
       "h⋅(f_n⋅h + 2⋅f_n⋅t_n - 2⋅f_n⋅t_{n+1} - f_{n+1}⋅h)\n",
       "─────────────────────────────────────────────────\n",
       "                2⋅(t_n - t_{n+1})                "
      ]
     },
     "execution_count": 21,
     "metadata": {},
     "output_type": "execute_result"
    }
   ],
   "source": [
    "simplify(integrate(fn1* (t-tn)/(tn1 - tn) + fn* (t-tn1)/(tn-tn1), (t, tn, tn + h)))"
   ]
  }
 ],
 "metadata": {
  "kernelspec": {
   "display_name": "Python 2",
   "language": "python",
   "name": "python2"
  },
  "language_info": {
   "codemirror_mode": {
    "name": "ipython",
    "version": 2
   },
   "file_extension": ".py",
   "mimetype": "text/x-python",
   "name": "python",
   "nbconvert_exporter": "python",
   "pygments_lexer": "ipython2",
   "version": "2.7.9"
  }
 },
 "nbformat": 4,
 "nbformat_minor": 0
}
