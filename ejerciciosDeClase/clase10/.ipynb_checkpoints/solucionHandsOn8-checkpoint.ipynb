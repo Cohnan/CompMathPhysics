{
 "cells": [
  {
   "cell_type": "code",
   "execution_count": 1,
   "metadata": {
    "collapsed": false
   },
   "outputs": [
    {
     "name": "stdout",
     "output_type": "stream",
     "text": [
      "Populating the interactive namespace from numpy and matplotlib\n"
     ]
    }
   ],
   "source": [
    "%pylab inline\n",
    "from scipy.optimize import root"
   ]
  },
  {
   "cell_type": "code",
   "execution_count": 2,
   "metadata": {
    "collapsed": false
   },
   "outputs": [
    {
     "name": "stdout",
     "output_type": "stream",
     "text": [
      "El primer punto de Lagrange del sistema Jupiter-Io se encuentra a 10508552 metros de Io\n"
     ]
    }
   ],
   "source": [
    "M_1 = 1.8986E27#kg, Mass of Jupiter\n",
    "M_2 = 8.9319E22#kg, Mass of Io\n",
    "R = 423400000 #m, apoapsis\n",
    "\n",
    "def funcion(r):\n",
    "    #Función con raiz el primer punto de Lagrange\n",
    "    \n",
    "    return M_2/r**2 + (M_1/(M_1 + M_2) * R - r)*((M_1 + M_2)/R**3) - M_1/(R-r)**2\n",
    "\n",
    "print \"El primer punto de Lagrange del sistema Jupiter-Io se encuentra a %.0f metros de Io\"%(root(funcion, R/50.).x[0])"
   ]
  }
 ],
 "metadata": {
  "kernelspec": {
   "display_name": "Python 2",
   "language": "python",
   "name": "python2"
  },
  "language_info": {
   "codemirror_mode": {
    "name": "ipython",
    "version": 2
   },
   "file_extension": ".py",
   "mimetype": "text/x-python",
   "name": "python",
   "nbconvert_exporter": "python",
   "pygments_lexer": "ipython2",
   "version": "2.7.9"
  }
 },
 "nbformat": 4,
 "nbformat_minor": 0
}
