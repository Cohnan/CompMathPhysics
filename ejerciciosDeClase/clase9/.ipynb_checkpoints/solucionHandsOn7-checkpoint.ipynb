{
 "cells": [
  {
   "cell_type": "code",
   "execution_count": 1,
   "metadata": {
    "collapsed": false
   },
   "outputs": [
    {
     "name": "stdout",
     "output_type": "stream",
     "text": [
      "Populating the interactive namespace from numpy and matplotlib\n"
     ]
    }
   ],
   "source": [
    "%pylab inline"
   ]
  },
  {
   "cell_type": "code",
   "execution_count": 34,
   "metadata": {
    "collapsed": false
   },
   "outputs": [
    {
     "name": "stdout",
     "output_type": "stream",
     "text": [
      "Order of the polynomial: 39\n"
     ]
    }
   ],
   "source": [
    "import scipy.interpolate\n",
    "\n",
    "data = genfromtxt('polyunkown.txt', delimiter = ',')\n",
    "pol = scipy.interpolate.lagrange(data[: ,0], data[: ,1])\n",
    "\n",
    "print \"Order of the polynomial:\", pol.order"
   ]
  },
  {
   "cell_type": "code",
   "execution_count": 35,
   "metadata": {
    "collapsed": false
   },
   "outputs": [
    {
     "name": "stdout",
     "output_type": "stream",
     "text": [
      "Mass of Jupiter: 1.8895758608e+27\n"
     ]
    },
    {
     "data": {
      "image/png": "[encoded data removed]",
      "text/plain": [
       "<matplotlib.figure.Figure at 0x6a44190>"
      ]
     },
     "metadata": {},
     "output_type": "display_data"
    }
   ],
   "source": [
    "x = array([421.6, 670., 1070., 1882.7]) * 1000000\n",
    "y = (array([1.769, 3.551, 7.154, 16.689]) *  24 * 3600)**2\n",
    "\n",
    "polt2 = scipy.interpolate.interp1d(x, y, kind = 'cubic')\n",
    "polt22Coef = np.polyfit(x, y, 3)\n",
    "\n",
    "polt22 = poly1d(polt22Coef)\n",
    "\n",
    "plt.plot(x, y, 'bo', linspace(min(x), max(x), 100), polt2(linspace(min(x), max(x), 100)), 'r-', linspace(min(x), max(x), 100), polt22(linspace(min(x), max(x), 100)), 'g--')\n",
    "\n",
    "print \"Mass of Jupiter:\", 4*np.pi**2 / (6.67 * 10**(-11) * polt22Coef[0])"
   ]
  },
  {
   "cell_type": "markdown",
   "metadata": {},
   "source": [
    "## Campo Magnético de un dipolo a lo largo de su eje"
   ]
  },
  {
   "cell_type": "code",
   "execution_count": 59,
   "metadata": {
    "collapsed": false
   },
   "outputs": [
    {
     "name": "stdout",
     "output_type": "stream",
     "text": [
      "  x/cm  B/uT\n",
      "2.3000  34820.3331\n",
      "2.3202  33918.6866\n",
      "2.3404  33047.9034\n",
      "2.3606  32206.6739\n",
      "2.3808  31393.7551\n",
      "2.4010  30607.9658\n",
      "2.4212  29848.1839\n",
      "2.4414  29113.3420\n",
      "2.4616  28402.4253\n",
      "2.4818  27714.4678\n",
      "2.5020  27048.5503\n",
      "2.5222  26403.7971\n",
      "2.5424  25779.3740\n",
      "2.5626  25174.4860\n",
      "2.5828  24588.3751\n",
      "2.6030  24020.3183\n",
      "2.6232  23469.6258\n",
      "2.6434  22935.6391\n",
      "2.6636  22417.7295\n",
      "2.6838  21915.2965\n",
      "2.7040  21427.7662\n",
      "2.7242  20954.5903\n",
      "2.7444  20495.2442\n",
      "2.7646  20049.2264\n",
      "2.7848  19616.0570\n",
      "2.8051  19195.2766\n",
      "2.8253  18786.4454\n",
      "2.8455  18389.1423\n",
      "2.8657  18002.9637\n",
      "2.8859  17627.5231\n",
      "2.9061  17262.4498\n",
      "2.9263  16907.3883\n",
      "2.9465  16561.9979\n",
      "2.9667  16225.9515\n",
      "2.9869  15898.9352\n",
      "3.0071  15580.6478\n",
      "3.0273  15270.7998\n",
      "3.0475  14969.1135\n",
      "3.0677  14675.3219\n",
      "3.0879  14389.1685\n",
      "3.1081  14110.4065\n",
      "3.1283  13838.7989\n",
      "3.1485  13574.1176\n",
      "3.1687  13316.1432\n",
      "3.1889  13064.6647\n",
      "3.2091  12819.4788\n",
      "3.2293  12580.3900\n",
      "3.2495  12347.2099\n",
      "3.2697  12119.7571\n",
      "3.2899  11897.8568\n",
      "3.3101  11681.3407\n",
      "3.3303  11470.0463\n",
      "3.3505  11263.8173\n",
      "3.3707  11062.5028\n",
      "3.3909  10865.9572\n",
      "3.4111  10674.0401\n",
      "3.4313  10486.6162\n",
      "3.4515  10303.5546\n",
      "3.4717  10124.7292\n",
      "3.4919  9950.0182\n",
      "3.5121  9779.3039\n",
      "3.5323  9612.4726\n",
      "3.5525  9449.4147\n",
      "3.5727  9290.0240\n",
      "3.5929  9134.1979\n",
      "3.6131  8981.8375\n",
      "3.6333  8832.8468\n",
      "3.6535  8687.1333\n",
      "3.6737  8544.6073\n",
      "3.6939  8405.1822\n",
      "3.7141  8268.7740\n",
      "3.7343  8135.3017\n",
      "3.7545  8004.6865\n",
      "3.7747  7876.8526\n",
      "3.7949  7751.7263\n",
      "3.8152  7629.2362\n",
      "3.8354  7509.3133\n",
      "3.8556  7391.8906\n",
      "3.8758  7276.9035\n",
      "3.8960  7164.2890\n",
      "3.9162  7053.9863\n",
      "3.9364  6945.9363\n",
      "3.9566  6840.0819\n",
      "3.9768  6736.3675\n",
      "3.9970  6634.7393\n",
      "4.0172  6535.1452\n",
      "4.0374  6437.5345\n",
      "4.0576  6341.8581\n",
      "4.0778  6248.0683\n",
      "4.0980  6156.1188\n",
      "4.1182  6065.9647\n",
      "4.1384  5977.5624\n",
      "4.1586  5890.8696\n",
      "4.1788  5805.8452\n",
      "4.1990  5722.4491\n",
      "4.2192  5640.6427\n",
      "4.2394  5560.3881\n",
      "4.2596  5481.6488\n",
      "4.2798  5404.3892\n",
      "4.3000  5328.5748\n"
     ]
    },
    {
     "data": {
      "text/plain": [
       "[<matplotlib.lines.Line2D at 0x5f80510>,\n",
       " <matplotlib.lines.Line2D at 0x5f80790>]"
      ]
     },
     "execution_count": 59,
     "metadata": {},
     "output_type": "execute_result"
    },
    {
     "data": {
      "image/png": "[encoded data removed]",
      "text/plain": [
       "<matplotlib.figure.Figure at 0x5f63190>"
      ]
     },
     "metadata": {},
     "output_type": "display_data"
    }
   ],
   "source": [
    "from scipy.optimize import curve_fit\n",
    "\n",
    "x = array([2.3, 2.8, 3.2, 3.7, 4.3]) / 100.\n",
    "y = array([34745., 19689., 12594., 7982., 5822.]) / 1000000\n",
    "\n",
    "def fun(x, m):\n",
    "    return 10**(-7) * (2*m/x**3)\n",
    "\n",
    "par, cov = curve_fit(fun, x, y)\n",
    "\n",
    "m = par[0]\n",
    "\n",
    "xs = linspace(min(x), max(x), 100)\n",
    "\n",
    "print \"%6s  %4s\" %('x/cm', 'B/uT')\n",
    "for i in range(100):\n",
    "    print \"%.4f  %.4f\" %(xs[i] * 100, fun(xs[i], m) * 1000000.)\n",
    "\n",
    "plt.plot(xs, fun(xs, m), 'b-', x, y, 'ro')"
   ]
  }
 ],
 "metadata": {
  "kernelspec": {
   "display_name": "Python 2",
   "language": "python",
   "name": "python2"
  },
  "language_info": {
   "codemirror_mode": {
    "name": "ipython",
    "version": 2
   },
   "file_extension": ".py",
   "mimetype": "text/x-python",
   "name": "python",
   "nbconvert_exporter": "python",
   "pygments_lexer": "ipython2",
   "version": "2.7.9"
  }
 },
 "nbformat": 4,
 "nbformat_minor": 0
}
