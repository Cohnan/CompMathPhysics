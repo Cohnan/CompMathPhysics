{
 "cells": [
  {
   "cell_type": "markdown",
   "metadata": {},
   "source": [
    "# Tarea 6\n",
    "\n",
    "Métodos Computacionales, 2015-19\n",
    "\n",
    "Sebastián Camilo Puerto, 201318518"
   ]
  },
  {
   "cell_type": "code",
   "execution_count": 1,
   "metadata": {
    "collapsed": false
   },
   "outputs": [
    {
     "name": "stdout",
     "output_type": "stream",
     "text": [
      "Populating the interactive namespace from numpy and matplotlib\n"
     ]
    }
   ],
   "source": [
    "%pylab inline"
   ]
  },
  {
   "cell_type": "markdown",
   "metadata": {},
   "source": [
    "## Punto 1: Cálculo Simbólico"
   ]
  },
  {
   "cell_type": "markdown",
   "metadata": {},
   "source": []
  },
  {
   "cell_type": "code",
   "execution_count": 2,
   "metadata": {
    "collapsed": true
   },
   "outputs": [],
   "source": [
    "from sympy import *\n",
    "\n",
    "init_printing(use_unicode = True)  # Para que utilice los caracteres de Unicode para renderizar bonito"
   ]
  },
  {
   "cell_type": "markdown",
   "metadata": {},
   "source": [
    "### a)"
   ]
  },
  {
   "cell_type": "code",
   "execution_count": 3,
   "metadata": {
    "collapsed": false
   },
   "outputs": [],
   "source": [
    "def lagrange(n):\n",
    "    \n",
    "    var('t')  #t como símbolo, que utilizo tal como se renderiza\n",
    "    \n",
    "    # Definir los t's y f's para utilizar como símbolos\n",
    "    for i in range(n):\n",
    "        exec(\"t_\" + str(i) + \", f_\" + str(i) + \" = symbols('t_{\" + str(i) + \"}, f_{\" + str(i) + \"}')\")\n",
    "    \n",
    "    polinomio = Float(0)\n",
    "    \n",
    "    # Hacer polinomio\n",
    "    for i in range(n):\n",
    "        \n",
    "        # Hacer monomios  \n",
    "        termino = eval(\"f_\" + str(i))\n",
    "        for j in range(n):      \n",
    "            if i != j:\n",
    "                termino *= eval(\"(t - t_\" + str(j) + \")/(t_\" + str(i) + \" - t_\" + str(j) + \")\")\n",
    "        \n",
    "        polinomio += termino\n",
    "        \n",
    "    return polinomio"
   ]
  },
  {
   "cell_type": "markdown",
   "metadata": {},
   "source": [
    "### b)  \n",
    "Adams-Bashford de orden $m$ para hallar el vector estado en $t_m$\n",
    "\n",
    "NOTA: En el enunciado aparecen en orden contrario los coeficientes"
   ]
  },
  {
   "cell_type": "code",
   "execution_count": 26,
   "metadata": {
    "collapsed": false
   },
   "outputs": [],
   "source": [
    "def adams(m):\n",
    "    \n",
    "    # Hallar polinomio base\n",
    "    polinomio = lagrange(m)\n",
    "    \n",
    "    # Definir los t's y f's para utilizar como símbolos\n",
    "    for i in range(m):\n",
    "        exec(\"t_\" + str(i) + \" = symbols('t_{\" + str(i) + \"}')\")\n",
    "        \n",
    "    # Redefinir símbolos en terminos de t_{n-1} y h\n",
    "    tn1, h = symbols('t_{n-1}, h')\n",
    "    \n",
    "    for i in range(0, m):\n",
    "        polinomio = polinomio.subs(eval('t_' + str(m-1 - i)), tn1 - i*h)\n",
    "    \n",
    "    # Integrar para hallar la diferencia del vector estado para t_n\n",
    "    return simplify(integrate(polinomio, (t, tn1, tn1 + h)))\n",
    "    "
   ]
  },
  {
   "cell_type": "markdown",
   "metadata": {},
   "source": [
    "## Punto 2: Ecuación de Poisson para el Potencial Gravitacional\n",
    "\n"
   ]
  },
  {
   "cell_type": "code",
   "execution_count": 158,
   "metadata": {
    "collapsed": false,
    "scrolled": true
   },
   "outputs": [],
   "source": [
    "# Unidades SI\n",
    "\n",
    "G = 6.67384E-11                # \n",
    "L = 3000.\n",
    "l = 270.\n",
    "\n",
    "N = 100\n",
    "h = L/N\n",
    "\n",
    "rho = 400.\n",
    "masa = rho * l**3\n",
    "\n",
    "rhs = 4 * np.pi * G * rho\n",
    "\n",
    "# Límites del cubo que produce el campo gravitacinal\n",
    "x_min = y_min = z_min = -L/2 \n",
    "x_max = y_max = z_max =  L/2\n",
    "\n",
    "# Ticks de los ejes, centrados en los cuadros que componen la cuadrícula\n",
    "## que discretiza el espacio representado (un cubo de L metros de largo)\n",
    "x_tick = np.linspace(x_min + h/2., x_max - h/2., N)\n",
    "y_tick = np.linspace(y_min + h/2., y_max - h/2., N)\n",
    "z_tick = np.linspace(z_min + h/2., z_max - h/2., N)\n",
    "\n",
    "# Meshgrid para las coordenadas del espacio.\n",
    "# La forma en que lo escribí permite cambiar a un paralelepípedo sin\n",
    "## dolores de cabeza (por alguna razón no es intuitivo el meshgrid).\n",
    "y_mesh, x_mesh, z_mesh = np.meshgrid(y_tick, x_tick, z_tick) # Sólo así me funcionó\n",
    "\n",
    "# Potencial (phi) de masa puntual centrada como ansatz\n",
    "phi = np.ones((N, N, N)) * (-G * masa / \n",
    "                            np.sqrt(x_mesh**2 + y_mesh**2 + z_mesh**2))\n",
    "\n",
    "# Distribución de densidad de la masa que genear el campo gravitacional.\n",
    "densidad = np.ones((N, N, N))\n",
    "densidad[np.abs(x_mesh) > l/2.] *= 0\n",
    "densidad[abs(y_mesh) > l/2.] *= 0\n",
    "densidad[abs(z_mesh) > l/2.] *= 0"
   ]
  },
  {
   "cell_type": "code",
   "execution_count": 164,
   "metadata": {
    "collapsed": false
   },
   "outputs": [],
   "source": [
    "# Resolución de la ecuación\n",
    "\n",
    "iteraciones = 1000\n",
    "\n",
    "for i in range(iteraciones):\n",
    "    phi = (rhs + \n",
    "           np.roll(phi, 1, axis = 0) + np.roll(phi, -1, axis = 0) + # x\n",
    "           np.roll(phi, 1, axis = 1) + np.roll(phi, -1, axis = 1) + # y\n",
    "           np.roll(phi, 1, axis = 2) + np.roll(phi, -1, axis = 2)   # z\n",
    "          ) / 6.\n",
    "    # Condiciones de frontera\n",
    "    phi[0] = 0.\n",
    "    phi[-1] = 0.\n",
    "    phi[:, 0, :] = 0.\n",
    "    phi[:, -1, :] = 0.\n",
    "    phi[:, :, 0] = 0.\n",
    "    phi[:, :, -1] = 0."
   ]
  },
  {
   "cell_type": "code",
   "execution_count": 166,
   "metadata": {
    "collapsed": false
   },
   "outputs": [
    {
     "data": {
      "image/png": "[encoded data removed]",
      "text/plain": [
       "<matplotlib.figure.Figure at 0x7f78e7a54610>"
      ]
     },
     "metadata": {},
     "output_type": "display_data"
    }
   ],
   "source": [
    "fig_1 = plt.figure('Potencial Gravitacional', figsize=(10,8))\n",
    "ax_11 = fig_1.add_subplot(111)\n",
    "fig_1.colorbar(ax_11.pcolor(y_tick, z_tick, phi[int(N/2)], cmap='gist_heat'))\n",
    "ax_11.clabel(ax_11.contour(y_tick, z_tick, phi[int(N/2)], levels=[-1,-2,-4,-8,-16],colors = 'k'))\n",
    "ax_11.set_title('$\\Phi$ /$cm^{2}s^{-2}$')\n",
    "ax_11.set_xlabel('$y$ /$m$')\n",
    "ax_11.set_ylabel('$z$ /$m$')\n",
    "plt.show()"
   ]
  },
  {
   "cell_type": "code",
   "execution_count": null,
   "metadata": {
    "collapsed": true
   },
   "outputs": [],
   "source": []
  },
  {
   "cell_type": "code",
   "execution_count": null,
   "metadata": {
    "collapsed": true
   },
   "outputs": [],
   "source": []
  },
  {
   "cell_type": "code",
   "execution_count": 134,
   "metadata": {
    "collapsed": false,
    "scrolled": false
   },
   "outputs": [
    {
     "name": "stdout",
     "output_type": "stream",
     "text": [
      "[-1.  0.  1.]\n",
      "[-6. -3.  0.  3.  6.]\n",
      "[-66. -44. -22.   0.  22.  44.  66.]\n",
      "\n",
      "dens1\n",
      "[[[ 0.  0.  0.  0.  0.  0.  0.]\n",
      "  [ 0.  0.  0.  0.  0.  0.  0.]\n",
      "  [ 0.  0.  0.  0.  0.  0.  0.]\n",
      "  [ 0.  0.  0.  0.  0.  0.  0.]\n",
      "  [ 0.  0.  0.  0.  0.  0.  0.]]\n",
      "\n",
      " [[ 0.  0.  0.  0.  0.  0.  0.]\n",
      "  [ 0.  0.  0.  0.  0.  0.  0.]\n",
      "  [ 0.  0.  0.  0.  0.  0.  0.]\n",
      "  [ 0.  0.  0.  0.  0.  0.  0.]\n",
      "  [ 0.  0.  0.  0.  0.  0.  0.]]\n",
      "\n",
      " [[ 1.  1.  1.  1.  1.  1.  1.]\n",
      "  [ 1.  1.  1.  1.  1.  1.  1.]\n",
      "  [ 1.  1.  1.  1.  1.  1.  1.]\n",
      "  [ 1.  1.  1.  1.  1.  1.  1.]\n",
      "  [ 1.  1.  1.  1.  1.  1.  1.]]]\n",
      "\n",
      "dens2\n",
      "[[[ 0.  0.  0.  0.  0.  0.  0.]\n",
      "  [ 0.  0.  0.  0.  0.  0.  0.]\n",
      "  [ 0.  0.  0.  0.  0.  0.  0.]\n",
      "  [ 0.  0.  0.  0.  0.  0.  0.]\n",
      "  [ 1.  1.  1.  1.  1.  1.  1.]]\n",
      "\n",
      " [[ 0.  0.  0.  0.  0.  0.  0.]\n",
      "  [ 0.  0.  0.  0.  0.  0.  0.]\n",
      "  [ 0.  0.  0.  0.  0.  0.  0.]\n",
      "  [ 0.  0.  0.  0.  0.  0.  0.]\n",
      "  [ 1.  1.  1.  1.  1.  1.  1.]]\n",
      "\n",
      " [[ 0.  0.  0.  0.  0.  0.  0.]\n",
      "  [ 0.  0.  0.  0.  0.  0.  0.]\n",
      "  [ 0.  0.  0.  0.  0.  0.  0.]\n",
      "  [ 0.  0.  0.  0.  0.  0.  0.]\n",
      "  [ 1.  1.  1.  1.  1.  1.  1.]]]\n",
      "\n",
      "dens3\n",
      "[[[ 0.  0.  0.  0.  1.  1.  1.]\n",
      "  [ 0.  0.  0.  0.  1.  1.  1.]\n",
      "  [ 0.  0.  0.  0.  1.  1.  1.]\n",
      "  [ 0.  0.  0.  0.  1.  1.  1.]\n",
      "  [ 0.  0.  0.  0.  1.  1.  1.]]\n",
      "\n",
      " [[ 0.  0.  0.  0.  1.  1.  1.]\n",
      "  [ 0.  0.  0.  0.  1.  1.  1.]\n",
      "  [ 0.  0.  0.  0.  1.  1.  1.]\n",
      "  [ 0.  0.  0.  0.  1.  1.  1.]\n",
      "  [ 0.  0.  0.  0.  1.  1.  1.]]\n",
      "\n",
      " [[ 0.  0.  0.  0.  1.  1.  1.]\n",
      "  [ 0.  0.  0.  0.  1.  1.  1.]\n",
      "  [ 0.  0.  0.  0.  1.  1.  1.]\n",
      "  [ 0.  0.  0.  0.  1.  1.  1.]\n",
      "  [ 0.  0.  0.  0.  1.  1.  1.]]]\n",
      "\n",
      "dens4\n",
      "[[[ 0.  0.  0.  1.  0.  0.  0.]\n",
      "  [ 1.  1.  1.  1.  1.  1.  1.]\n",
      "  [ 1.  1.  1.  1.  1.  1.  1.]\n",
      "  [ 1.  1.  1.  1.  1.  1.  1.]\n",
      "  [ 0.  0.  0.  1.  0.  0.  0.]]\n",
      "\n",
      " [[ 0.  0.  0.  1.  0.  0.  0.]\n",
      "  [ 1.  1.  1.  1.  1.  1.  1.]\n",
      "  [ 1.  1.  1.  1.  1.  1.  1.]\n",
      "  [ 1.  1.  1.  1.  1.  1.  1.]\n",
      "  [ 0.  0.  0.  1.  0.  0.  0.]]\n",
      "\n",
      " [[ 0.  0.  0.  1.  0.  0.  0.]\n",
      "  [ 1.  1.  1.  1.  1.  1.  1.]\n",
      "  [ 1.  1.  1.  1.  1.  1.  1.]\n",
      "  [ 1.  1.  1.  1.  1.  1.  1.]\n",
      "  [ 0.  0.  0.  1.  0.  0.  0.]]]\n"
     ]
    }
   ],
   "source": [
    "x_t = np.linspace(-1, 1, 3)\n",
    "y_t = np.linspace(-6, 6, 5)\n",
    "z_t = np.linspace(-66, 66, 7)\n",
    "print x_t\n",
    "print y_t\n",
    "print z_t\n",
    "ym, xm, zm = np.meshgrid(y_t, x_t, z_t)\n",
    "\n",
    "print\n",
    "print 'dens1'\n",
    "\n",
    "dens1 = np.zeros((3, 5, 7))\n",
    "dens1[xm > 0 ] = 1\n",
    "\n",
    "print dens1\n",
    "\n",
    "print\n",
    "print 'dens2'\n",
    "\n",
    "dens2 = np.zeros((3, 5, 7))\n",
    "dens2[ym > 3] = 1\n",
    "\n",
    "print dens2\n",
    "\n",
    "print\n",
    "print 'dens3'\n",
    "\n",
    "dens3 = np.zeros((3, 5, 7))\n",
    "dens3[zm > 15] = 1\n",
    "\n",
    "print dens3\n",
    "\n",
    "print\n",
    "print 'dens4'\n",
    "\n",
    "dens4 = np.zeros((3, 5, 7))\n",
    "dens4[abs(ym) <= 3] = 1\n",
    "dens4[abs(zm) < 22] = 1\n",
    "\n",
    "print dens4"
   ]
  }
 ],
 "metadata": {
  "kernelspec": {
   "display_name": "Python 2",
   "language": "python",
   "name": "python2"
  },
  "language_info": {
   "codemirror_mode": {
    "name": "ipython",
    "version": 2
   },
   "file_extension": ".py",
   "mimetype": "text/x-python",
   "name": "python",
   "nbconvert_exporter": "python",
   "pygments_lexer": "ipython2",
   "version": "2.7.9"
  }
 },
 "nbformat": 4,
 "nbformat_minor": 0
}
