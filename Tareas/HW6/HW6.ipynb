{
 "cells": [
  {
   "cell_type": "markdown",
   "metadata": {},
   "source": [
    "# Tarea 6\n",
    "\n",
    "Métodos Computacionales, 2015-19\n",
    "\n",
    "Sebastián Camilo Puerto, 201318518"
   ]
  },
  {
   "cell_type": "code",
   "execution_count": 1,
   "metadata": {
    "collapsed": false
   },
   "outputs": [
    {
     "name": "stdout",
     "output_type": "stream",
     "text": [
      "Populating the interactive namespace from numpy and matplotlib\n"
     ]
    }
   ],
   "source": [
    "%pylab inline"
   ]
  },
  {
   "cell_type": "markdown",
   "metadata": {},
   "source": [
    "## Punto 1: Cálculo Simbólico"
   ]
  },
  {
   "cell_type": "markdown",
   "metadata": {},
   "source": []
  },
  {
   "cell_type": "code",
   "execution_count": 2,
   "metadata": {
    "collapsed": true
   },
   "outputs": [],
   "source": [
    "from sympy import *\n",
    "\n",
    "init_printing(use_unicode = True)  # Para que utilice los caracteres de Unicode para renderizar bonito"
   ]
  },
  {
   "cell_type": "markdown",
   "metadata": {},
   "source": [
    "### a)"
   ]
  },
  {
   "cell_type": "code",
   "execution_count": 3,
   "metadata": {
    "collapsed": false
   },
   "outputs": [],
   "source": [
    "def lagrange(n):\n",
    "    \n",
    "    var('t')  #t como símbolo, que utilizo tal como se renderiza\n",
    "    \n",
    "    # Definir los t's y f's para utilizar como símbolos\n",
    "    for i in range(n):\n",
    "        exec(\"t_\" + str(i) + \", f_\" + str(i) + \" = symbols('t_{\" + str(i) + \"}, f_{\" + str(i) + \"}')\")\n",
    "    \n",
    "    polinomio = Float(0)\n",
    "    \n",
    "    # Hacer polinomio\n",
    "    for i in range(n):\n",
    "        \n",
    "        # Hacer monomios  \n",
    "        termino = eval(\"f_\" + str(i))\n",
    "        for j in range(n):      \n",
    "            if i != j:\n",
    "                termino *= eval(\"(t - t_\" + str(j) + \")/(t_\" + str(i) + \" - t_\" + str(j) + \")\")\n",
    "        \n",
    "        polinomio += termino\n",
    "        \n",
    "    return polinomio"
   ]
  },
  {
   "cell_type": "markdown",
   "metadata": {},
   "source": [
    "### b)  \n",
    "Adams-Bashford de orden $m$ para hallar el vector estado en $t_m$\n",
    "\n",
    "NOTA: En el enunciado aparecen en orden contrario los coeficientes"
   ]
  },
  {
   "cell_type": "code",
   "execution_count": 26,
   "metadata": {
    "collapsed": false
   },
   "outputs": [],
   "source": [
    "def adams(m):\n",
    "    \n",
    "    # Hallar polinomio base\n",
    "    polinomio = lagrange(m)\n",
    "    \n",
    "    # Definir los t's y f's para utilizar como símbolos\n",
    "    for i in range(m):\n",
    "        exec(\"t_\" + str(i) + \" = symbols('t_{\" + str(i) + \"}')\")\n",
    "        \n",
    "    # Redefinir símbolos en terminos de t_{n-1} y h\n",
    "    tn1, h = symbols('t_{n-1}, h')\n",
    "    \n",
    "    for i in range(0, m):\n",
    "        polinomio = polinomio.subs(eval('t_' + str(m-1 - i)), tn1 - i*h)\n",
    "    \n",
    "    # Integrar para hallar la diferencia del vector estado para t_n\n",
    "    return simplify(integrate(polinomio, (t, tn1, tn1 + h)))\n",
    "    "
   ]
  }
 ],
 "metadata": {
  "kernelspec": {
   "display_name": "Python 2",
   "language": "python",
   "name": "python2"
  },
  "language_info": {
   "codemirror_mode": {
    "name": "ipython",
    "version": 2
   },
   "file_extension": ".py",
   "mimetype": "text/x-python",
   "name": "python",
   "nbconvert_exporter": "python",
   "pygments_lexer": "ipython2",
   "version": "2.7.9"
  }
 },
 "nbformat": 4,
 "nbformat_minor": 0
}
