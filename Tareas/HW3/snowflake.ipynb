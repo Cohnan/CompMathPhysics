{
 "cells": [
  {
   "cell_type": "code",
   "execution_count": 71,
   "metadata": {
    "collapsed": false
   },
   "outputs": [
    {
     "name": "stdout",
     "output_type": "stream",
     "text": [
      "Using matplotlib backend: TkAgg\n",
      "Populating the interactive namespace from numpy and matplotlib\n"
     ]
    }
   ],
   "source": [
    "%pylab"
   ]
  },
  {
   "cell_type": "code",
   "execution_count": 85,
   "metadata": {
    "collapsed": false
   },
   "outputs": [],
   "source": [
    "import matplotlib.patches as patches\n",
    "\n",
    "xkcd()\n",
    "\n",
    "def rotado(vect, ang = np.pi/3):\n",
    "    rot_matrix = array([[np.cos(ang), -np.sin(ang)], \\\n",
    "                         [np.sin(ang), np.cos(ang)]])\n",
    "    return np.dot(vect, rot_matrix)\n",
    "\n",
    "def de_base_tercero(p1, p3):\n",
    "    vector = p3 - p1\n",
    "    p2 = rotado(vector)\n",
    "    return p1 + p2\n",
    "\n",
    "def p_equilatero(lado, centro = array([0, 0])):\n",
    "    p2 = array([0, lado / np.sqrt(3)]) + centro\n",
    "    p1 = rotado(p2 - centro, 2*np.pi/3) + centro\n",
    "    p3 = rotado(p2 - centro, 4*np.pi/3) + centro\n",
    "    return array([p1, p2, p3])\n",
    "\n",
    "def dos_centrales(p1, p2):\n",
    "    vect = p2 - p1\n",
    "    return (p1 + 1./3 * vect, p1 + 2./3 * vect)\n",
    "\n",
    "def sigts_segun(puntos):\n",
    "    res = np.zeros((4 * len(puntos), 2))\n",
    "    \n",
    "    j = 0\n",
    "    for i in range(0, len(puntos)):\n",
    "        pi1, pi2 = dos_centrales(puntos[i], puntos[(i + 1) % len(puntos)])\n",
    "        res[j] = puntos[i]\n",
    "        res[j + 1] = pi1\n",
    "        res[j + 2] = de_base_tercero(pi1, pi2)\n",
    "        res[j + 3] = pi2\n",
    "        j += 4\n",
    "    \n",
    "    return res\n",
    "        \n",
    "\n",
    "lado = 1.\n",
    "i = 1\n",
    "lims = array([-lado / 2, lado / 2]) * (1 + 1./3) * np.sin(np.pi/3)\n",
    "\n",
    "set_puntos = []\n",
    "\n",
    "fig = figure('Snowflake Tabla', figsize = (15, 10), facecolor = 'w')\n",
    "ax = fig.add_subplot(2,3,1, xlim = lims, ylim = lims)\n",
    "ax.axis('off')\n",
    "tx = ax.text(0, 0, str(i), horizontalalignment = 'center', verticalalignment = 'center')\n",
    "\n",
    "set_puntos.append(p_equilatero(1.))\n",
    "polig = patches.Polygon(set_puntos[0], fill = False, color = 'b')\n",
    "ax.add_patch(polig)\n",
    "\n",
    "for i in range(2, 7):\n",
    "    ax = fig.add_subplot(2,3,i, xlim = lims, ylim = lims)\n",
    "    ax.axis('off')\n",
    "    tx = ax.text(0, 0, str(i), horizontalalignment = 'center', verticalalignment = 'center')\n",
    "    \n",
    "    puntos = sigts_segun(set_puntos[-1])\n",
    "    set_puntos.append(puntos)\n",
    "    \n",
    "    polig = patches.Polygon(puntos, fill = False, color = 'b')\n",
    "    ax.add_patch(polig)\n",
    "\n",
    "plt.show()"
   ]
  },
  {
   "cell_type": "code",
   "execution_count": null,
   "metadata": {
    "collapsed": true
   },
   "outputs": [],
   "source": [
    "import matplotlib.animation as animation\n",
    "\n",
    "framesps = 1\n",
    "segundos = 6\n",
    "\n"
   ]
  },
  {
   "cell_type": "code",
   "execution_count": 13,
   "metadata": {
    "collapsed": false
   },
   "outputs": [
    {
     "data": {
      "text/plain": [
       "1.0"
      ]
     },
     "execution_count": 13,
     "metadata": {},
     "output_type": "execute_result"
    }
   ],
   "source": [
    "def dist(p1, p2):\n",
    "    return np.sqrt((p1 - p2)[0]**2 + (p1 - p2)[1]**2)\n",
    "\n",
    "equil = p_equilatero(1.)\n",
    "dist(equil[0], equil[2])"
   ]
  },
  {
   "cell_type": "code",
   "execution_count": 15,
   "metadata": {
    "collapsed": true
   },
   "outputs": [],
   "source": [
    "del ax.patches[0]"
   ]
  },
  {
   "cell_type": "code",
   "execution_count": 29,
   "metadata": {
    "collapsed": false
   },
   "outputs": [
    {
     "name": "stdout",
     "output_type": "stream",
     "text": [
      "[[ 0.5        -0.28867513]\n",
      " [ 0.          0.57735027]\n",
      " [-0.5        -0.28867513]]\n",
      "[[ 0.5        -0.28867513]\n",
      " [ 0.          0.57735027]\n",
      " [-0.5        -0.28867513]\n",
      " [ 0.          0.        ]]\n"
     ]
    }
   ],
   "source": [
    "print equil\n",
    "print np.append(equil, [[0,0]], axis = 0)\n"
   ]
  },
  {
   "cell_type": "code",
   "execution_count": 61,
   "metadata": {
    "collapsed": false
   },
   "outputs": [
    {
     "name": "stdout",
     "output_type": "stream",
     "text": [
      "[  3.33333333e-01   5.55111512e-17]\n",
      "[[ 0.5        -0.28867513]\n",
      " [ 0.          0.57735027]\n",
      " [-0.5        -0.28867513]]\n",
      "[[  5.00000000e-01  -2.88675135e-01]\n",
      " [  3.33333333e-01   5.55111512e-17]\n",
      " [  1.66666667e-01   2.88675135e-01]\n",
      " [  0.00000000e+00   5.77350269e-01]\n",
      " [ -1.66666667e-01   2.88675135e-01]\n",
      " [ -3.33333333e-01  -1.11022302e-16]\n",
      " [ -5.00000000e-01  -2.88675135e-01]\n",
      " [ -1.66666667e-01  -2.88675135e-01]\n",
      " [  1.66666667e-01  -2.88675135e-01]]\n",
      "[[  5.00000000e-01  -2.88675135e-01]\n",
      " [  4.44444444e-01  -1.92450090e-01]\n",
      " [  3.88888889e-01  -9.62250449e-02]\n",
      " [  3.33333333e-01   5.55111512e-17]\n",
      " [  2.77777778e-01   9.62250449e-02]\n",
      " [  2.22222222e-01   1.92450090e-01]\n",
      " [  1.66666667e-01   2.88675135e-01]\n",
      " [  1.11111111e-01   3.84900179e-01]\n",
      " [  5.55555556e-02   4.81125224e-01]\n",
      " [  0.00000000e+00   5.77350269e-01]\n",
      " [ -5.55555556e-02   4.81125224e-01]\n",
      " [ -1.11111111e-01   3.84900179e-01]\n",
      " [ -1.66666667e-01   2.88675135e-01]\n",
      " [ -2.22222222e-01   1.92450090e-01]\n",
      " [ -2.77777778e-01   9.62250449e-02]\n",
      " [ -3.33333333e-01  -1.11022302e-16]\n",
      " [ -3.88888889e-01  -9.62250449e-02]\n",
      " [ -4.44444444e-01  -1.92450090e-01]\n",
      " [ -5.00000000e-01  -2.88675135e-01]\n",
      " [ -3.88888889e-01  -2.88675135e-01]\n",
      " [ -2.77777778e-01  -2.88675135e-01]\n",
      " [ -1.66666667e-01  -2.88675135e-01]\n",
      " [ -5.55555556e-02  -2.88675135e-01]\n",
      " [  5.55555556e-02  -2.88675135e-01]\n",
      " [  1.66666667e-01  -2.88675135e-01]\n",
      " [  2.77777778e-01  -2.88675135e-01]\n",
      " [  3.88888889e-01  -2.88675135e-01]]\n"
     ]
    }
   ],
   "source": [
    "pi1, pi2 = dos_centrales(equil[0], equil[1])\n",
    "print pi1\n",
    "print equil\n",
    "print sigts_segun(equil)\n",
    "print sigts_segun(sigts_segun(equil))"
   ]
  }
 ],
 "metadata": {
  "kernelspec": {
   "display_name": "Python 2",
   "language": "python",
   "name": "python2"
  },
  "language_info": {
   "codemirror_mode": {
    "name": "ipython",
    "version": 2
   },
   "file_extension": ".py",
   "mimetype": "text/x-python",
   "name": "python",
   "nbconvert_exporter": "python",
   "pygments_lexer": "ipython2",
   "version": "2.7.9"
  }
 },
 "nbformat": 4,
 "nbformat_minor": 0
}
