{
 "cells": [
  {
   "cell_type": "code",
   "execution_count": 102,
   "metadata": {
    "collapsed": false
   },
   "outputs": [
    {
     "name": "stdout",
     "output_type": "stream",
     "text": [
      "Using matplotlib backend: TkAgg\n",
      "Populating the interactive namespace from numpy and matplotlib\n"
     ]
    }
   ],
   "source": [
    "%pylab\n",
    "\n",
    "terminos = {}\n",
    "\n",
    "def termino(n):\n",
    "    \n",
    "    if n in terminos:\n",
    "        return terminos[n]\n",
    "    \n",
    "    if n == 1:\n",
    "        term = lambda x: x\n",
    "    else:\n",
    "        term = lambda x: - x**2 / ((2.*n - 2.)*(2.*n - 1.)) * termino(n - 1)(x)\n",
    "    \n",
    "    terminos[n] = term\n",
    "    return term\n",
    "\n",
    "def numsin(n, x):\n",
    "    suma = 0\n",
    "    for i in range(1, n + 1):\n",
    "        suma += termino(i)(x)\n",
    "    return suma\n",
    "\n",
    "def numsin1(n, x):\n",
    "    return np.vectorize(numsin)(n, x)"
   ]
  },
  {
   "cell_type": "code",
   "execution_count": 149,
   "metadata": {
    "collapsed": false
   },
   "outputs": [],
   "source": [
    "def n_necesarios(x, epsilon = 0.01):\n",
    "    n = 1\n",
    "    while (abs(numsin(n, x) - np.sin(x)) >= epsilon):\n",
    "           n += 1\n",
    "    return n"
   ]
  },
  {
   "cell_type": "code",
   "execution_count": 147,
   "metadata": {
    "collapsed": false
   },
   "outputs": [
    {
     "name": "stdout",
     "output_type": "stream",
     "text": [
      "[]\n"
     ]
    }
   ],
   "source": [
    "x = np.linspace(0, 20, 100)\n",
    "y = np.sin(x)\n",
    "\n",
    "plt.axis([0, 20, -2, 2])\n",
    "\n",
    "#ys = []\n",
    "#for i in range(5):\n",
    "    #ys.append(numsin1((i+1) * 1, x))\n",
    "    #plt.plot(x, ys[i])\n",
    "\n",
    "plt.xkcd()\n",
    "plt.plot(x, y)\n",
    "\n",
    "ys = []\n",
    "print ys\n",
    "for i in range(40):\n",
    "    ys.append(numsin1((i+1) * 1, x))\n",
    "    plt.plot(x, ys[i], label = str(i+1))\n",
    "\n",
    "#plt.savefig('graficaNumsin.png', bbox_inches='tight')"
   ]
  },
  {
   "cell_type": "code",
   "execution_count": 100,
   "metadata": {
    "collapsed": false
   },
   "outputs": [
    {
     "name": "stdout",
     "output_type": "stream",
     "text": [
      "3.76991118431\n",
      "\n",
      "Evaluando: 0.0\n"
     ]
    },
    {
     "data": {
      "text/plain": [
       "1"
      ]
     },
     "execution_count": 100,
     "metadata": {},
     "output_type": "execute_result"
    }
   ],
   "source": [
    "print 41.2 % 2*np.pi\n",
    "\n",
    "n_necesarios(40. % 2*np.pi)"
   ]
  },
  {
   "cell_type": "code",
   "execution_count": 151,
   "metadata": {
    "collapsed": false
   },
   "outputs": [
    {
     "name": "stdout",
     "output_type": "stream",
     "text": [
      "[1 2 2 3 4 4 5 5 6 7 7 8 8 9 1 2 2 3 4 4 5 6 6 7 7 8 9 9 1 2 3 3 4 4 5 6 6\n",
      " 7 7 8 9 9 1 2 3 3 4 5 5 6 6 7 8 8 9 9 1 2 3 3 4 5 5 6 6 7 8 8 9 9 2 2 3 4\n",
      " 4 5 5 6 7 7 8 8 9 1 2 2 3 4 4 5 5 6 7 7 8 8 9 1 2 2]\n"
     ]
    }
   ],
   "source": [
    "x = np.linspace(0, 45, 100)\n",
    "ns = array([n_necesarios(el % (2*np.pi)) for el in x])\n",
    "\n",
    "print ns"
   ]
  }
 ],
 "metadata": {
  "kernelspec": {
   "display_name": "Python 2",
   "language": "python",
   "name": "python2"
  },
  "language_info": {
   "codemirror_mode": {
    "name": "ipython",
    "version": 2
   },
   "file_extension": ".py",
   "mimetype": "text/x-python",
   "name": "python",
   "nbconvert_exporter": "python",
   "pygments_lexer": "ipython2",
   "version": "2.7.9"
  }
 },
 "nbformat": 4,
 "nbformat_minor": 0
}
