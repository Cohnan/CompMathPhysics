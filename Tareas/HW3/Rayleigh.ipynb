{
 "cells": [
  {
   "cell_type": "code",
   "execution_count": 1,
   "metadata": {
    "collapsed": false
   },
   "outputs": [
    {
     "name": "stdout",
     "output_type": "stream",
     "text": [
      "Using matplotlib backend: TkAgg\n",
      "Populating the interactive namespace from numpy and matplotlib\n"
     ]
    }
   ],
   "source": [
    "%pylab\n",
    "from scipy.optimize import curve_fit\n",
    "from matplotlib import animation"
   ]
  },
  {
   "cell_type": "markdown",
   "metadata": {},
   "source": [
    "#Informe Laboratorio 1\n",
    "\n",
    "Estudiante: Sebastián Camilo Puerto\n",
    "\n",
    "Código: 201318518"
   ]
  },
  {
   "cell_type": "markdown",
   "metadata": {},
   "source": [
    "El experimento consiste en simular un gas formado por discos suaves neutros, que interactúan de acuerdo al potencial de Lennard Jones truncado. Las velocidades iniciales de las partículas tienen una distribución uniforme y sus posiciones iniciales se toman en una cuadrícula.\n",
    "\n",
    "Se quiere demostrar que la distribución de las velocidades de las partículas, luego de que ha ocurrido suficiente tiempo para que se haya llegado al equilibrio térmico, corresponde a la distribución de Rayleigh."
   ]
  },
  {
   "cell_type": "markdown",
   "metadata": {},
   "source": [
    "## Análisis de Resultados\n",
    "\n",
    "La simulación hecha consiste en 1600 partículas neutras 2 dimensionales aisladas a una temperatura de 1 unidad, una densidad de 0.3 particulas por unidad de área, ubicadas inicialmente en una cuadrícula y con una distribución de velocidades uniforme.\n",
    "\n",
    "La interacción de las partículas fue calculada con pasos cada 1ms, con un tiempo total de simulación de 5 segundos. Los datos se extrajeron cada 2 pasos."
   ]
  },
  {
   "cell_type": "code",
   "execution_count": 2,
   "metadata": {
    "collapsed": true
   },
   "outputs": [],
   "source": [
    "data = np.genfromtxt('Rayleigh.csv', delimiter = ',')\n",
    "\n",
    "xs = data[:, 0]\n",
    "ys = data[:, 1]\n",
    "\n",
    "#Variable con los tiempos correspondiente a cada cuadro de tiempo\n",
    "t = linspace(0, 0.005 * 1000, len(xs) / 1600)"
   ]
  },
  {
   "cell_type": "markdown",
   "metadata": {},
   "source": [
    "Animación con las posiciones de las partículas:"
   ]
  },
  {
   "cell_type": "code",
   "execution_count": 3,
   "metadata": {
    "collapsed": false
   },
   "outputs": [
    {
     "name": "stdout",
     "output_type": "stream",
     "text": [
      "Using matplotlib backend: TkAgg\n",
      "Populating the interactive namespace from numpy and matplotlib\n"
     ]
    }
   ],
   "source": [
    "%pylab\n",
    "\n",
    "fig = figure('Particulas en el tiempo', figsize=(8,8))\n",
    "\n",
    "ax = fig.add_subplot(111, autoscale_on=False, xlim=(min(xs) - 0.1, max(xs) + 0.1), ylim=(min(ys) - 0.1, max(ys) + 0.1))\n",
    "ax.grid()\n",
    "\n",
    "ax.set_xlabel(\"Coordenada x\")\n",
    "ax.set_ylabel(\"Coordenada y\")\n",
    "\n",
    "line, = ax.plot([], [], 'ko', lw=2)\n",
    "time_template = 'Time = %.1fs'\n",
    "time_text = ax.text(0.05, 1.01, '', transform=ax.transAxes)\n",
    "\n",
    "dt = 0.01\n",
    "def init():\n",
    "    line.set_data([], [])\n",
    "    time_text.set_text('')\n",
    "    return line, time_text\n",
    "\n",
    "def animate(i):\n",
    "    thisx = xs[1600 * i : 1600 * (i + 1)]\n",
    "    thisy = ys[1600 * i : 1600 * (i + 1)]\n",
    "\n",
    "    line.set_data(thisx, thisy)\n",
    "    time_text.set_text(time_template%(i*dt))\n",
    "    return line, time_text\n",
    "\n",
    "anim = animation.FuncAnimation(fig, animate, frames = 501,\n",
    "    interval = 10, blit=True, init_func=init)\n",
    "\n",
    "#anim.save('particulasBasico.mp4')\n",
    "\n",
    "plt.show()"
   ]
  },
  {
   "cell_type": "code",
   "execution_count": 4,
   "metadata": {
    "collapsed": true
   },
   "outputs": [],
   "source": [
    "#Extracción de velocidades de cada partícula, y cálculo de sus rapideces\n",
    "vx = data[:, 2]\n",
    "vy = data[:, 3]\n",
    "speeds = np.sqrt(vx**2 + vy**2)\n",
    "\n",
    "#Separación de las velocidades del último cuadro de tiempo en una variable en una variable aparte\n",
    "\n",
    "ultimas = speeds[len(speeds) - 1600 - 1 : ]"
   ]
  },
  {
   "cell_type": "markdown",
   "metadata": {},
   "source": [
    "La distribución de Rayleigh está descrita por la siguiente función, con *k* factor para escalación de la función."
   ]
  },
  {
   "cell_type": "code",
   "execution_count": 5,
   "metadata": {
    "collapsed": true
   },
   "outputs": [],
   "source": [
    "def prob(x, k):\n",
    "    return x / (k**2) * np.exp(- x**2 / (2 * k**2))"
   ]
  },
  {
   "cell_type": "markdown",
   "metadata": {},
   "source": [
    "Se generó el histograma de estas rapideces y se hizo el fit de éstos a una curva descrita por la distribución de Rayleigh."
   ]
  },
  {
   "cell_type": "code",
   "execution_count": 6,
   "metadata": {
    "collapsed": false,
    "scrolled": true
   },
   "outputs": [
    {
     "name": "stdout",
     "output_type": "stream",
     "text": [
      "Populating the interactive namespace from numpy and matplotlib\n"
     ]
    },
    {
     "data": {
      "image/png": "[encoded data removed]",
      "text/plain": [
       "<matplotlib.figure.Figure at 0x7f3e4c0b2050>"
      ]
     },
     "metadata": {},
     "output_type": "display_data"
    }
   ],
   "source": [
    "%pylab inline\n",
    "\n",
    "plt.figure(\"Histograma de Rapideces\", figsize = (8, 8))\n",
    "\n",
    "#Histograma\n",
    "probs = plt.hist(ultimas, normed = True, bins = 31)\n",
    "\n",
    "probabilidades = probs[0]\n",
    "rapideces = probs[1]\n",
    "rapideces = array([(rapideces[i-1] + rapideces[i])/ 2 for i in range(1, len(rapideces))]) #Promedio de extremos de cada bin\n",
    "\n",
    "#Fit de la curva\n",
    "par, err = curve_fit(prob, rapideces, probabilidades)\n",
    "\n",
    "x = np.linspace(0, max(rapideces), 100)\n",
    "y = prob(x, par[0])\n",
    "\n",
    "plt.xlabel(\"Rapideces\")\n",
    "plt.ylabel(\"Probabilidades\")\n",
    "plt.title(\"Distribucion de Rapideces\")\n",
    "\n",
    "plt.plot(x, y)\n",
    "#plt.savefig('histograma.png', bbox_inches='tight') # Sin márgenes\n",
    "\n",
    "plt.show()"
   ]
  },
  {
   "cell_type": "markdown",
   "metadata": {},
   "source": [
    "Se obtiene un factor de escalación de 0.9828, con desviación estándar de 0.0117, el cual se observa en la gráfica que describe de manera acertada la distribución de rapideces."
   ]
  },
  {
   "cell_type": "markdown",
   "metadata": {},
   "source": [
    "## Conclusiones"
   ]
  },
  {
   "cell_type": "markdown",
   "metadata": {},
   "source": [
    "+ La distribución de rapideces de las partículas del gas en el equilibrio térmico está adecuadamente descrito por la distribución de Rayleigh"
   ]
  }
 ],
 "metadata": {
  "kernelspec": {
   "display_name": "Python 2",
   "language": "python",
   "name": "python2"
  },
  "language_info": {
   "codemirror_mode": {
    "name": "ipython",
    "version": 2
   },
   "file_extension": ".py",
   "mimetype": "text/x-python",
   "name": "python",
   "nbconvert_exporter": "python",
   "pygments_lexer": "ipython2",
   "version": "2.7.9"
  }
 },
 "nbformat": 4,
 "nbformat_minor": 0
}
