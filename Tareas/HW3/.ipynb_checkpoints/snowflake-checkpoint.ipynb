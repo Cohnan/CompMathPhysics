{
 "cells": [
  {
   "cell_type": "code",
   "execution_count": 1,
   "metadata": {
    "collapsed": false
   },
   "outputs": [
    {
     "name": "stdout",
     "output_type": "stream",
     "text": [
      "Using matplotlib backend: TkAgg\n",
      "Populating the interactive namespace from numpy and matplotlib\n"
     ]
    }
   ],
   "source": [
    "%pylab"
   ]
  },
  {
   "cell_type": "markdown",
   "metadata": {},
   "source": [
    "# Punto 1 Tarea 3\n",
    "Sebastián Camilo Puerto\n",
    "201318518\n",
    "\n",
    "Copo de Nieve de Koch"
   ]
  },
  {
   "cell_type": "markdown",
   "metadata": {},
   "source": [
    "##Funciones para la creación del copo de nieve."
   ]
  },
  {
   "cell_type": "code",
   "execution_count": 2,
   "metadata": {
    "collapsed": false
   },
   "outputs": [],
   "source": [
    "import matplotlib.patches as patches\n",
    "\n",
    "def rotado(vect, ang = np.pi/3):\n",
    "    # Función que devuelve la rotación un vector (array)\n",
    "    \n",
    "    rot_matrix = array([[np.cos(ang), -np.sin(ang)], \\\n",
    "                         [np.sin(ang), np.cos(ang)]])\n",
    "    return np.dot(vect, rot_matrix)\n",
    "\n",
    "def de_base_tercero(p1, p3):\n",
    "    # Función para hallar un tercer punto del triángulo equilátero\n",
    "    # dados los de la base.\n",
    "    \n",
    "    vector = p3 - p1\n",
    "    p2 = rotado(vector)\n",
    "    return p1 + p2\n",
    "\n",
    "def p_equilatero(lado, centro = array([0, 0])):\n",
    "    # Función que devuelve en un array los puntos que componen un triángulo equilátero\n",
    "    # de lado y centro dados\n",
    "    \n",
    "    p2 = array([0, lado / np.sqrt(3)]) + centro\n",
    "    p1 = rotado(p2 - centro, 2*np.pi/3) + centro\n",
    "    p3 = rotado(p2 - centro, 4*np.pi/3) + centro\n",
    "    return array([p1, p2, p3])\n",
    "\n",
    "def dos_centrales(p1, p2):\n",
    "    # Función que devuelve los 2 puntos intermedios entre otros 2 vértices\n",
    "    # de algun estado del Copo de Nieve\n",
    "    \n",
    "    vect = p2 - p1\n",
    "    return (p1 + 1./3 * vect, p1 + 2./3 * vect)\n",
    "\n",
    "class Snowflake:\n",
    "    # Clase que contiene un polígono con los vértices del actual estado del copo de nieve, y los puntos para\n",
    "    # otros estados\n",
    "    \n",
    "    def __init__(self, s_estado = 0, s_centro = array([0., 0.]), s_lado_base = 1., ):\n",
    "        # Inicialización de copo de nieve\n",
    "        \n",
    "        self.lado = s_lado_base\n",
    "        self.centro = s_centro\n",
    "        self.estado = s_estado\n",
    "        self.puntos_estados = {}\n",
    "        self.puntos_actuales = self.calcular_puntos(s_estado)\n",
    "        self.poligono = self.calcular_poligono( )\n",
    "    \n",
    "    def cambiar_estado(self, estado):\n",
    "        # Cambia el estado actual del snowflake\n",
    "        \n",
    "        self.puntos_actuales = self.calcular_puntos(estado)\n",
    "        self.poligono = self.calcular_poligono( )\n",
    "    \n",
    "    def calcular_puntos(self, estado):\n",
    "        # Devuelve los puntos correspondientes a dicho estado\n",
    "        \n",
    "        if 0 not in self.puntos_estados: \n",
    "            self.puntos_estado_base( )\n",
    "        \n",
    "        if estado in self.puntos_estados:\n",
    "            return self.puntos_estados[estado]\n",
    "        \n",
    "        self.puntos_estados[estado] = self.sigts_segun(self.calcular_puntos(estado - 1))\n",
    "        return self.puntos_estados[estado]\n",
    "    \n",
    "    def calcular_poligono(self):\n",
    "        # Devuelve el polígono que corresponde al copo de nieve actual\n",
    "        \n",
    "        return patches.Polygon(self.puntos_actuales, fill = False, color = 'b') \n",
    "    \n",
    "    def puntos_estado_base(self):\n",
    "        # Función que devuelve en un array los puntos que componen un triángulo equilátero con centro y lado \n",
    "        # los del objeto\n",
    "    \n",
    "        p2 = array([0, self.lado / np.sqrt(3)]) + self.centro\n",
    "        p1 = rotado(p2 - self.centro, 2*np.pi/3) + self.centro\n",
    "        p3 = rotado(p2 - self.centro, 4*np.pi/3) + self.centro\n",
    "        \n",
    "        self.puntos_estados[0] = array([p1, p2, p3])\n",
    "        return self.puntos_estados[0]\n",
    "    \n",
    "    def sigts_segun(self, puntos):\n",
    "        # Función que calcula y devuelve un array con los puntos del siguiente estado del\n",
    "        # copo de nieve dados los puntos del estado anterior\n",
    "        \n",
    "        res = np.zeros((4 * len(puntos), 2))\n",
    "        \n",
    "        j = 0\n",
    "        for i in range(0, len(puntos)):\n",
    "            pi1, pi2 = dos_centrales(puntos[i], puntos[(i + 1) % len(puntos)])\n",
    "            res[j] = puntos[i]\n",
    "            res[j + 1] = pi1\n",
    "            res[j + 2] = de_base_tercero(pi1, pi2)\n",
    "            res[j + 3] = pi2\n",
    "            j += 4\n",
    "        \n",
    "        return res \n"
   ]
  },
  {
   "cell_type": "markdown",
   "metadata": {},
   "source": [
    "## Tabla con los 6 primeros estados"
   ]
  },
  {
   "cell_type": "code",
   "execution_count": 3,
   "metadata": {
    "collapsed": false
   },
   "outputs": [],
   "source": [
    "# Variables particulares\n",
    "lado = 1.\n",
    "i = 1\n",
    "# Este valor se utilizará para los límites de los axes, y está cuadrado de tal\n",
    "# manera que la figura ocupe un espacio máximo\n",
    "lims = array([-lado / 2, lado / 2]) * (1 + 1./3) * np.sin(np.pi/3)\n",
    "\n",
    "## Lista con los arrays de los puntos de cada estado del Copo\n",
    "#set_puntos = []\n",
    "\n",
    "# Figura donde se encuentra la tabla\n",
    "fig = plt.figure('Snowflake Tabla', figsize = (15, 10), facecolor = 'w')\n",
    "\n",
    "# Utiliza el estilo xkcd para dibujar los Artistas\n",
    "with xkcd( ):\n",
    "    snow = Snowflake(s_estado = 0, s_centro = array([0., 0.]), s_lado_base = lado)\n",
    "    \n",
    "    for i in range(1, 7):\n",
    "        snow.cambiar_estado(i - 1)\n",
    "        \n",
    "        ax = fig.add_subplot(2,3,i, xlim = lims, ylim = lims)\n",
    "        ax.axis('off')\n",
    "        tx = ax.text(0, 0, str(i - 1), horizontalalignment = 'center', verticalalignment = 'center')\n",
    "        \n",
    "        ax.add_patch(snow.poligono)\n",
    "    \n",
    "plt.show()\n",
    "#plt.savefig('snowflake.png', bbox_inches='tight') # Sin márgenes"
   ]
  },
  {
   "cell_type": "markdown",
   "metadata": {},
   "source": [
    "## Animación del Copo de Nieve"
   ]
  },
  {
   "cell_type": "code",
   "execution_count": 5,
   "metadata": {
    "collapsed": false
   },
   "outputs": [],
   "source": [
    "# Depende de la ejecución anterior\n",
    "\n",
    "import matplotlib.animation as animation\n",
    "\n",
    "# Variables particulares adecuadas\n",
    "framesps = 1\n",
    "segundos = 6\n",
    "\n",
    "# Se utiliza este array para hacer un cuadrado que se mostrará del axes\n",
    "lims = array([-lado / 2, lado / 2]) * (1 + 1./3) * np.sin(np.pi/3)\n",
    "\n",
    "# Creación y configuración de la figura y el axes\n",
    "fig2 = plt.figure('Animacion Snowflake', facecolor = 'w', figsize = (7,7))\n",
    "ax = fig2.add_subplot(111, xlim = lims, ylim = lims)\n",
    "ax.axis('off')\n",
    "\n",
    "# Función de iniciación de la animación. Lo que cambio es el polígono que\n",
    "# se encuentra como único patch del axes\n",
    "def init( ):\n",
    "    polig = patches.Polygon([[0,0]], fill = False)\n",
    "    ax.add_patch(polig)\n",
    "    return ax.patches\n",
    "\n",
    "# Función de animación con argumento el frame\n",
    "def animate(i):\n",
    "    ax.patches[0].set_xy(snow.puntos_estados[i])\n",
    "    return ax.patches\n",
    "    \n",
    "anim = animation.FuncAnimation(fig2, animate, frames = framesps * segundos, interval = 1000./ framesps, blit = True, init_func = init)\n",
    "#anim.save('snowflake.mp4', fps = framesps)"
   ]
  }
 ],
 "metadata": {
  "kernelspec": {
   "display_name": "Python 2",
   "language": "python",
   "name": "python2"
  },
  "language_info": {
   "codemirror_mode": {
    "name": "ipython",
    "version": 2
   },
   "file_extension": ".py",
   "mimetype": "text/x-python",
   "name": "python",
   "nbconvert_exporter": "python",
   "pygments_lexer": "ipython2",
   "version": "2.7.9"
  }
 },
 "nbformat": 4,
 "nbformat_minor": 0
}
