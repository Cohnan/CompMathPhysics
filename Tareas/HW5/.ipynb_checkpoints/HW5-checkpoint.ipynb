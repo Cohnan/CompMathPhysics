{
 "cells": [
  {
   "cell_type": "code",
   "execution_count": 1,
   "metadata": {
    "collapsed": false
   },
   "outputs": [
    {
     "name": "stdout",
     "output_type": "stream",
     "text": [
      "Populating the interactive namespace from numpy and matplotlib\n"
     ]
    }
   ],
   "source": [
    "%pylab inline\n",
    "from scipy.integrate import odeint"
   ]
  },
  {
   "cell_type": "code",
   "execution_count": null,
   "metadata": {
    "collapsed": true
   },
   "outputs": [],
   "source": [
    "def runge_kutta_4th(der_fun, Y, delta_t):\n",
    "    k1 = der_fun(Y)\n",
    "    k2 = der_fun(Y + delta_t * (1./2 * k1))\n",
    "    k3 = der_fun(Y + delta_t * (1./2 * k2))\n",
    "    k4 = der_fun(Y + delta_t * k3)\n",
    "    return Y + delta_t*(K1/6. + K2/3. + K3/3. + K4/6.)"
   ]
  },
  {
   "cell_type": "code",
   "execution_count": null,
   "metadata": {
    "collapsed": true
   },
   "outputs": [],
   "source": [
    "def fun_der_masa(Y, constantes): #Sin t. Me parece conveniente un array de constantes\n",
    "    \n",
    "    #TODO Checar longitudes de arrays de masa y Y\n",
    "    masas = array(constantes[: -1]) #Ultimo es G\n",
    "    G = constantes[-1]\n",
    "    \n",
    "    n = len(masas)\n",
    "    dYdt = array([]) # Array solucion\n",
    "    \n",
    "    # Agregar velocidades a la solucion\n",
    "    np.append(dYdt, [Y[n:]], axis = 0)\n",
    "    \n",
    "    # Agregar aceleraciones\n",
    "    for i in range(n):\n",
    "        masas_act = #TODO masas diferentes a la actual\n",
    "        rs_act = #TODO vectores posicion correspondientes\n",
    "        np.append(dYdt, [G * masas_act * r / np.sqrt(np.sum(rs_act**2, axis = 1))**3], axis = 0)\n",
    "        \n",
    "    return dYdt"
   ]
  },
  {
   "cell_type": "code",
   "execution_count": null,
   "metadata": {
    "collapsed": true
   },
   "outputs": [],
   "source": [
    "class Sistema_Masas:\n",
    "    \n",
    "    def __init__(self, masas, posiciones, velocidades, fun_derivada, \n",
    "                 t_max = 100., t_actual = 0., \n",
    "                 metodo = runge_kutta_4th, timestp = 0.1, err_rel_fpos = 0.000000001):\n",
    "        \n",
    "        #TODO checks\n",
    "        # check masas positivas, vectores 3D y mismo tamano y misma cantidad que de masas, \n",
    "        # t_max positivo, timestp > 0,\n",
    "        # actual_time > 0 y < a t_max redondeado + timestp, \n",
    "        # err_rel_fpos > 0\n",
    "        \n",
    "        # Guardar variables necesarias para enteder el sistema y la informacion\n",
    "        # guardada, falta estado actual\n",
    "        \n",
    "        self.ms = np.array(masas) #any sequence type probably\n",
    "        self.N = len(masas)\n",
    "        self.Ys = {}\n",
    "        self.ts = array([])\n",
    "        self.fun_derivada = fun_derivada\n",
    "        self.t_max = t_max - t_max % timesp\n",
    "        self.timestp = timestp\n",
    "        self.err_rel_fpos = err_rel_fpos\n",
    "        \n",
    "        self.periodica = False\n",
    "        self.periodo = -100.\n",
    "        \n",
    "        # Cuadrar vectores Y en diccionario con keys los tiempos\n",
    "        posiciones = np.array(posiciones)\n",
    "        velocidades = np.array(velocidades)\n",
    "        \n",
    "        ## Agregar info inicial\n",
    "        np.append(self.ts, 0.)\n",
    "        \n",
    "        self.Ys[ts[0]] = np.array([posiciones[i, 0], posiciones[i, 1], posiciones[i, 2],\n",
    "                                velocidades[i, 0], velocidades[i, 1], velocidades[i, 2]\n",
    "                               for i in range(self.N)])\n",
    "        \n",
    "        ## Calculo del sistema en cada tiempo hasta self.t_max\n",
    "        self.calcular_Ys( )\n",
    "        \n",
    "        # Cambiar estado actual\n",
    "        self.estado_actual = self.cambiar_estado(ts[0])\n",
    "    \n",
    "    def aumentar_t_max(self, t_max):\n",
    "        \n",
    "        #TODO Check t_max, if less than current, raise Exc, if periodic, raise Exception (to alert)\n",
    "        \n",
    "        # Cambiar el tiempo maximo\n",
    "        self.t_max = self.redondear_t(t_max)\n",
    "        \n",
    "        # Agregar Ys adicionales\n",
    "        self.calcular_Ys(restart = False)\n",
    "    \n",
    "    def cambiar_timestep(self, timestp):\n",
    "        \n",
    "        #TODO Check timestp\n",
    "        \n",
    "        # Cambiar el time step\n",
    "        self.timestp = timestp\n",
    "        \n",
    "        # Recalcular Ys\n",
    "        self.calcular_Ys(restart = True)\n",
    "    \n",
    "    def cambiar_t_max_y_timestep(self, t_max, timestp):\n",
    "        \n",
    "        #TODO Check times\n",
    "        \n",
    "        # Cambiar timestp y t_max\n",
    "        self.timestp = timestp\n",
    "        self.t_max = self.redondear_t(t_max)\n",
    "        \n",
    "        # Recalcular Ys\n",
    "        self.calcular_Ys(restart = True)\n",
    "    \n",
    "    def cambiar_estado(self, t):\n",
    "        \n",
    "        # Cambiar tiempo y Y actuales\n",
    "        self.t_actual = self.redondear_t(t)\n",
    "        self.Y_actual = Ys[self.t_actual]\n",
    "        \n",
    "    def info_actual(self):\n",
    "        # Retorna el tiempo y el vector Y del estado actual#Careful with copies\n",
    "        \n",
    "        return self.t_actual, self.Y_actual\n",
    "    \n",
    "    def energia_mecanica(self): #TODO\n",
    "        \n",
    "        # Del estado actual\n",
    "        \n",
    "    def energia_potencial(self): #TODO\n",
    "        \n",
    "        # Del estado actual\n",
    "        \n",
    "    def energia_total(self): #TODO\n",
    "        \n",
    "        # Del estado actual\n",
    "    \n",
    "    def animacion(self, tiempo, fps = 1./timestep): # TODO. Pensar luego\n",
    "        pass\n",
    "        \n",
    "    \n",
    "    def calcular_Ys(self, restart = False):\n",
    "        \n",
    "        # No checa periodicidad\n",
    "        \n",
    "        # Si restart, reasigna los tiempos y los Ys, y empieza en t = 0\n",
    "        \n",
    "        if restart:\n",
    "            ts = array([0.])\n",
    "            Ys = {Ys[ts[0]]}\n",
    "        \n",
    "        t = ts[-1]\n",
    "        \n",
    "        while t < self.t_max:\n",
    "            #TODO calculate next Y\n",
    "            #TODO if new Y is good enough to determine periodicity, change period stuff, t_max and break\n",
    "            #TODO add new Y\n",
    "            t += self.timestp\n",
    "        \n",
    "    def fuerza_sobre(self, i, t):#TODO #puede que lo quite, pues necesito asumir formato de Y\n",
    "        \n",
    "        # redondear el tiempo\n",
    "        return 0. #retornar fuerza, es las ultimas 3 coordenadas de la funcion derivada, multiplicada cada una por la masa correspondiente\n",
    "    \n",
    "    def redondear_tiempo(self, t): #Mejor llamarla en caso de querer utilizar un metodo que no utilice pasos uniformes\n",
    "        # Asume que t es positivo\n",
    "        \n",
    "        if t > self.t_max + self.timestp:\n",
    "            raise Exception('Tiempo muy largo, aumentar primero tiempo maximo')\n",
    "        \n",
    "        return t - t % timestp\n",
    "    \n",
    "    "
   ]
  },
  {
   "cell_type": "markdown",
   "metadata": {},
   "source": [
    "# 3-Coreografía"
   ]
  },
  {
   "cell_type": "markdown",
   "metadata": {},
   "source": [
    "## a."
   ]
  },
  {
   "cell_type": "code",
   "execution_count": null,
   "metadata": {
    "collapsed": true
   },
   "outputs": [],
   "source": [
    "a = 0.24250109\n",
    "b = −0.0607718825\n",
    "c = 0.93240737\n",
    "d = 0.86473146"
   ]
  },
  {
   "cell_type": "code",
   "execution_count": 6,
   "metadata": {
    "collapsed": false
   },
   "outputs": [
    {
     "name": "stdout",
     "output_type": "stream",
     "text": [
      "[ 5.  7.  9.]\n",
      "[  6.  15.]\n"
     ]
    }
   ],
   "source": [
    "ara = array([[1., 2., 3.], [4., 5., 6.]])\n",
    "\n",
    "print np.sum(ara, axis = 0)\n",
    "print np.sum(ara, axis = 1)"
   ]
  }
 ],
 "metadata": {
  "kernelspec": {
   "display_name": "Python 2",
   "language": "python",
   "name": "python2"
  },
  "language_info": {
   "codemirror_mode": {
    "name": "ipython",
    "version": 2
   },
   "file_extension": ".py",
   "mimetype": "text/x-python",
   "name": "python",
   "nbconvert_exporter": "python",
   "pygments_lexer": "ipython2",
   "version": "2.7.9"
  }
 },
 "nbformat": 4,
 "nbformat_minor": 0
}
