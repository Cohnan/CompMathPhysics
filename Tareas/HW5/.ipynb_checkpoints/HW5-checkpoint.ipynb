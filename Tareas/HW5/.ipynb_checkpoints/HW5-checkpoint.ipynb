{
 "cells": [
  {
   "cell_type": "code",
   "execution_count": 2,
   "metadata": {
    "collapsed": false
   },
   "outputs": [
    {
     "name": "stdout",
     "output_type": "stream",
     "text": [
      "Populating the interactive namespace from numpy and matplotlib\n"
     ]
    }
   ],
   "source": [
    "%pylab inline\n",
    "from scipy.integrate import odeint"
   ]
  },
  {
   "cell_type": "code",
   "execution_count": null,
   "metadata": {
    "collapsed": true
   },
   "outputs": [],
   "source": [
    "# Pretendo hacer posible el uso de diferentes metodos para solucionar\n",
    "# las ecuaciones diferenciales descritas por dY/dt = der_fun\n",
    "# Como no todos los metodos requieren la misma informacion sobre los Ys\n",
    "# y los ts ya existentes (por ejemplo multistep ones like the Adams-Bash one\n",
    "# requieren de varios momentos anteriores)\n",
    "\n",
    "def runge_kutta_4th(der_fun, constantes, Ys, dYsdt, ts = None, t = None, timestep = None):\n",
    "    # Ys es un diccionario con claves los elementos del array ts\n",
    "    # dYsdt es un diccionario con claves los elementos del array ts #Asumo, creo que correctamente, que el tiempo me determina todo el estado\n",
    "    # t es el tiempo en el que se quiere calcular el valor de Y\n",
    "    # timestep es el time step que utiliza el metodo, no estrictamente necesario\n",
    "    ## si se cuadran las cosas en el llamado, pero creo que es util tenerlo\n",
    "    ## en caso de que el metodo se base en uno, como los Runge-Kuttas\n",
    "    \n",
    "    #TODO validación de argumentos\n",
    "    \n",
    "    # Calculo de el valor de Y luego de un timestep\n",
    "    Y_ant = Ys[-1]\n",
    "    k1 = fun_der(Y_ant, None, constantes, dYsdt)\n",
    "    k2 = fun_der(Y_ant + delta_t * (1./2 * k1), None, constantes, dYsdt)\n",
    "    k3 = fun_der(Y_ant + delta_t * (1./2 * k2), None, constantes, dYsdt)\n",
    "    k4 = fun_der(Y_ant + delta_t * k3, None, constantes, dYsdt)\n",
    "    \n",
    "    # Que quien se encargue de guardarlo sea alguien mas, pues, puede que\n",
    "    # decida simplemente calcular el Y en un tiempo que ya existe, solo para\n",
    "    # utilizarlo en algo mas, quiza para no obligar que se use solo un metodo\n",
    "    # para la solucion de los sistemas de masas\n",
    "    return Y_ant + delta_t*(K1/6. + K2/3. + K3/3. + K4/6., constantes)"
   ]
  },
  {
   "cell_type": "code",
   "execution_count": null,
   "metadata": {
    "collapsed": true
   },
   "outputs": [],
   "source": [
    "def fun_der_grav(Y, t, constantes, dYsdt = None): #Sin t. Me parece conveniente un array de constantes \n",
    "    \n",
    "    #Asume Y = array([r1, r2, ..., v1, v2, ...]) con rs y vs array([c1, c2, c3])\n",
    "    \n",
    "    #TODO Checar longitudes de arrays de masa y Y\n",
    "    \n",
    "    # Devolver la derivada si ésta ya ha sido calculada. \n",
    "    ##IMPORTANTE:\n",
    "    ## Asume que no\n",
    "    ## ocurre recalculo de derivadas, porque asumo que la funcion derivada\n",
    "    ## solo depende del Y y el t donde se calcula.\n",
    "    \n",
    "    if t in dYsdt:\n",
    "        return dYsdt[0]\n",
    "    \n",
    "    masas = array(constantes[: -1]) #Ultimo es G\n",
    "    G = constantes[-1]\n",
    "    \n",
    "    n = len(masas)\n",
    "    dYdt = array([]) # Array solucion\n",
    "    \n",
    "    # Agregar velocidades a la solucion\n",
    "    np.append(dYdt, [Y[n:]], axis = 0)\n",
    "    \n",
    "    # Agregar aceleraciones\n",
    "    for i in range(n):\n",
    "        # Concatena lo que esta a izquierda y derecha para masas y vectores posicion actuales\n",
    "        masas_act = np.concatenate( (masas[: i], masas[i + 1 :]) , axis = 0) \n",
    "        rs_act = np.concatenate( (Y[: i], [i + 1 : n]) , axis = 0) - Ys[i] # Respecto al actual\n",
    "        # Suma de aceleraciones debidas a cada masa\n",
    "        np.append(dYdt, np.sum( G * masas_act * rs_act / np.sqrt(np.sum(rs_act**2, axis = 1))**3 ), axis = 0)\n",
    "\n",
    "    # Agregar resultado al diccionario de derivadas guardadas.\n",
    "    dYsdt[t] = dYdt #TODO estudiar si el diccionario se pasa completo\n",
    "    \n",
    "    return dYdt"
   ]
  },
  {
   "cell_type": "code",
   "execution_count": null,
   "metadata": {
    "collapsed": true
   },
   "outputs": [],
   "source": [
    "class Sistema_Masas:\n",
    "    \n",
    "    def __init__(self, masas, Y_0, fun_derivada, #Cambio a Y_0 para no forzar aun la convencion que usare de posiciones velocidades\n",
    "                 t_max = 100., t_actual = 0., \n",
    "                 metodo = runge_kutta_4th, timestp = 0.1, err_rel_fpos = 0.000000001):\n",
    "        \n",
    "        #TODO checks\n",
    "        # check masas positivas, vectores 3D y mismo tamano y misma cantidad que de masas, \n",
    "        # t_max positivo, timestp > 0,\n",
    "        # actual_time > 0 y < a t_max redondeado + timestp, \n",
    "        # err_rel_fpos > 0\n",
    "        \n",
    "        # Guardar variables necesarias para enteder el sistema y la informacion\n",
    "        ## guardada\n",
    "        self.masas = np.array(masas) #any sequence type probably\n",
    "        self.N = len(masas)\n",
    "        self.Ys = {}\n",
    "        self.dYsdt = {} #TODO, por si quiero implementar metodo multistep\n",
    "        self.ts = array([])\n",
    "        self.fun_derivada = fun_derivada\n",
    "        self.metodo = self.metodo_procesado(metodo) #TODO Para guardar resultados en dYsdt\n",
    "        \n",
    "        self.t_max = t_max - t_max % timesp\n",
    "        self.timestp = timestp\n",
    "        self.err_rel_fpos = err_rel_fpos\n",
    "        \n",
    "        self.periodica = False\n",
    "        self.periodo = -100.\n",
    "        \n",
    "        # Cuadrar vectores Y en diccionario con keys los tiempos\n",
    "        # #posiciones_0 = np.array(Y_0[: n])\n",
    "        # #velocidades_0 = np.array(velocidades_0[n :])\n",
    "        \n",
    "        ## Agregar info inicial\n",
    "        np.append(self.ts, 0.)\n",
    "        self.Ys[ts[0]] = Y_0\n",
    "        \n",
    "        ## Calculo del sistema en cada tiempo hasta self.t_max\n",
    "        self.calcular_Ys( )\n",
    "        \n",
    "        # Cambiar estado actual\n",
    "        self.estado_actual = self.cambiar_estado(ts[0])\n",
    "    \n",
    "    def aumentar_t_max(self, t_max):\n",
    "        \n",
    "        #TODO Check t_max, if less than current, raise Exc, if periodic, raise Exception (to alert)\n",
    "        \n",
    "        # Cambiar el tiempo maximo\n",
    "        self.t_max = self.redondear_t(t_max)\n",
    "        \n",
    "        # Agregar Ys adicionales\n",
    "        self.calcular_Ys(restart = False)\n",
    "    \n",
    "    def cambiar_timestep(self, timestp):\n",
    "        \n",
    "        #TODO Check timestp\n",
    "        \n",
    "        # Cambiar el time step\n",
    "        self.timestp = timestp\n",
    "        \n",
    "        # Recalcular Ys\n",
    "        self.calcular_Ys(restart = True)\n",
    "    \n",
    "    def cambiar_t_max_y_timestep(self, t_max, timestp):\n",
    "        \n",
    "        #TODO Check times\n",
    "        \n",
    "        # Cambiar timestp y t_max\n",
    "        self.timestp = timestp\n",
    "        self.t_max = self.redondear_t(t_max)\n",
    "        \n",
    "        # Recalcular Ys\n",
    "        self.calcular_Ys(restart = True)\n",
    "    \n",
    "    def cambiar_estado(self, t):\n",
    "        \n",
    "        # Cambiar tiempo y Y actuales\n",
    "        self.t_actual = self.redondear_t(t)\n",
    "        self.Y_actual = Ys[self.t_actual]\n",
    "        \n",
    "    def info_actual(self):\n",
    "        # Retorna el tiempo y el vector Y del estado actual#Careful with copies\n",
    "        \n",
    "        return self.t_actual, self.Y_actual\n",
    "    \n",
    "    def energia_mecanica(self): #TODO\n",
    "        # Del estado actual\n",
    "        pass\n",
    "        \n",
    "    def energia_potencial(self): #TODO\n",
    "        # Del estado actual\n",
    "        pass\n",
    "        \n",
    "    def energia_total(self): #TODO\n",
    "        # Del estado actual\n",
    "        pass\n",
    "    \n",
    "    def animacion(self, tiempo, fps = 1./timestep): # TODO. Pensar luego\n",
    "        pass\n",
    "        \n",
    "    \n",
    "    def calcular_Ys(self, restart = False):\n",
    "        \n",
    "        # No checa periodicidad\n",
    "        \n",
    "        # Si restart, reasigna los tiempos, los Ys, los dYsdt\n",
    "        ## y empieza en t = 0\n",
    "        if restart:\n",
    "            self.ts = array([0.])\n",
    "            self.Ys = {Ys[ts[0]]}\n",
    "            self.dYsdt = {}\n",
    "            self.cambiar_estado(ts[0])\n",
    "        \n",
    "        t = ts[-1]\n",
    "        \n",
    "        while t < self.t_max:\n",
    "            #TODO calculate next Y\n",
    "            Y_sig = self.metodo(self.fun_derivada\n",
    "            #TODO if new Y is good enough to determine periodicity, change period stuff, t_max and break\n",
    "            #TODO add new Y\n",
    "            t += self.timestp\n",
    "        \n",
    "   # #def fuerza_sobre(self, i, t):#TODO #puede que lo quite, pues necesito asumir formato de Y\n",
    "   # #    \n",
    "   # #    # redondear el tiempo\n",
    "   # #    return 0. #retornar fuerza, es las ultimas 3 coordenadas de la funcion derivada, multiplicada cada una por la masa correspondiente\n",
    "    \n",
    "    def redondear_tiempo(self, t): #Mejor llamarla en caso de querer utilizar un metodo que no utilice pasos uniformes\n",
    "        # Asume que t es positivo\n",
    "        \n",
    "        if t > self.t_max + self.timestp:\n",
    "            raise Exception('Tiempo muy largo, aumentar primero tiempo maximo')\n",
    "        \n",
    "        return t - t % timestp\n",
    "                                \n",
    "    def procesar_metodo(self, metodo): #TODO, \n",
    "        return metodo\n",
    "    \n",
    "    "
   ]
  },
  {
   "cell_type": "markdown",
   "metadata": {},
   "source": [
    "# 3-Coreografía"
   ]
  },
  {
   "cell_type": "markdown",
   "metadata": {},
   "source": [
    "## a."
   ]
  },
  {
   "cell_type": "code",
   "execution_count": null,
   "metadata": {
    "collapsed": true
   },
   "outputs": [],
   "source": [
    "a = 0.24250109\n",
    "b = −0.0607718825\n",
    "c = 0.93240737\n",
    "d = 0.86473146"
   ]
  },
  {
   "cell_type": "code",
   "execution_count": 3,
   "metadata": {
    "collapsed": false
   },
   "outputs": [
    {
     "name": "stdout",
     "output_type": "stream",
     "text": [
      "[ 5.  7.  9.]\n",
      "[  6.  15.]\n",
      "[ 14.  77.]\n"
     ]
    }
   ],
   "source": [
    "ara = array([[1., 2., 3.], [4., 5., 6.]])\n",
    "\n",
    "print np.sum(ara, axis = 0)\n",
    "print np.sum(ara, axis = 1)\n",
    "print np.sum(ara**2, axis = 1)"
   ]
  }
 ],
 "metadata": {
  "kernelspec": {
   "display_name": "Python 2",
   "language": "python",
   "name": "python2"
  },
  "language_info": {
   "codemirror_mode": {
    "name": "ipython",
    "version": 2
   },
   "file_extension": ".py",
   "mimetype": "text/x-python",
   "name": "python",
   "nbconvert_exporter": "python",
   "pygments_lexer": "ipython2",
   "version": "2.7.9"
  }
 },
 "nbformat": 4,
 "nbformat_minor": 0
}
