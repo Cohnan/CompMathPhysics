{
 "cells": [
  {
   "cell_type": "code",
   "execution_count": 1,
   "metadata": {
    "collapsed": false
   },
   "outputs": [
    {
     "name": "stdout",
     "output_type": "stream",
     "text": [
      "Populating the interactive namespace from numpy and matplotlib\n"
     ]
    }
   ],
   "source": [
    "%pylab inline\n",
    "from scipy.integrate import odeint"
   ]
  },
  {
   "cell_type": "code",
   "execution_count": null,
   "metadata": {
    "collapsed": true
   },
   "outputs": [],
   "source": [
    "def runge_kutta_4th(der_fun, Y, delta_t):\n",
    "    k1 = der_fun(Y)\n",
    "    k2 = der_fun(Y + delta_t * (1./2 * k1))\n",
    "    k3 = der_fun(Y + delta_t * (1./2 * k2))\n",
    "    k4 = der_fun(Y + delta_t * k3)\n",
    "    return Y + delta_t*(K1/6. + K2/3. + K3/3. + K4/6.)"
   ]
  },
  {
   "cell_type": "code",
   "execution_count": null,
   "metadata": {
    "collapsed": true
   },
   "outputs": [],
   "source": [
    "class Sistema_Masas:\n",
    "    \n",
    "    def __init__(self, masas, posiciones, velocidades, fun_derivada, \n",
    "                 t_max = 100., t_actual = 0., \n",
    "                 metodo = runge_kutta_4th, timestp = 0.1, err_rel_fpos = 0.000000001):\n",
    "        \n",
    "        #TODO checks\n",
    "        # check masas positivas, vectores 3D y mismo tamano y misma cantidad que de masas, \n",
    "        # t_max positivo, timestp > 0,\n",
    "        # actual_time > 0 y < a t_max redondeado + timestp, \n",
    "        # err_rel_fpos > 0\n",
    "        \n",
    "        # Guardar variables necesarias para enteder el sistema y la informacion\n",
    "        # guardada, falta estado actual\n",
    "        \n",
    "        self.ms = np.array(masas) #any sequence type probably\n",
    "        self.N = len(masas)\n",
    "        self.Ys = {}\n",
    "        self.fun_derivada = fun_derivada\n",
    "        self.t_max = t_max - t_max % timesp\n",
    "        self.timestp = timestp\n",
    "        self.err_rel_fpos = err_rel_fpos\n",
    "        \n",
    "        self.periodica = False\n",
    "        self.periodo = -100.\n",
    "        \n",
    "        # Cuadrar vectores Y en diccionario con keys los tiempos\n",
    "        posiciones = np.array(posiciones)\n",
    "        velocidades = np.array(velocidades)\n",
    "        \n",
    "        self.Ys[0.] = np.array([posiciones[i, 0], posiciones[i, 1], posiciones[i, 2],\n",
    "                                velocidades[i, 0], velocidades[i, 1], velocidades[i, 2]\n",
    "                               for i in range(self.N)])\n",
    "        \n",
    "        self.calcular_Ys( )\n",
    "        \n",
    "        # Cambiar estado actual\n",
    "        self.estado_actual = Ys[self.redondear_t(t_actual)]\n",
    "    \n",
    "    def cambiar_t_max(self, t_max):\n",
    "        \n",
    "        # Check t_max\n",
    "        pass\n",
    "    \n",
    "    def cambiar_timestep(self, timestp):\n",
    "        \n",
    "        # Check timestp\n",
    "        pass\n",
    "    \n",
    "    def animacion(self, tiempo, fps = 1./timestep, ): # TODO. Pensar luego\n",
    "        pass\n",
    "        \n",
    "    \n",
    "    def calcular_Ys(self):#TODO\n",
    "        # asume que al menos Ys[0] existe\n",
    "        t = 0.\n",
    "        while t < self.t_max:\n",
    "            break #TODO\n",
    "            # calculate next Y to self.Ys\n",
    "            # if new Y is good enough to determine periodicity, change period stuff and break\n",
    "            # add new Y\n",
    "            t += self.timestp\n",
    "        \n",
    "    def fuerza_sobre(self, i, t):#TODO\n",
    "        \n",
    "        # redondear el tiempo\n",
    "        return 0. #retornar fuerza\n",
    "    \n",
    "    def redondear_tiempo(self, t):\n",
    "        # Asume que t es positivo\n",
    "        \n",
    "        if t > self.t_max + self.timestp:\n",
    "            raise Exception('Tiempo muy largo, aumentar primero tiempo maximo')\n",
    "        \n",
    "        pass #TODO\n",
    "    \n",
    "    "
   ]
  },
  {
   "cell_type": "markdown",
   "metadata": {},
   "source": [
    "# 3-Coreografía"
   ]
  },
  {
   "cell_type": "markdown",
   "metadata": {},
   "source": [
    "## a."
   ]
  },
  {
   "cell_type": "code",
   "execution_count": null,
   "metadata": {
    "collapsed": true
   },
   "outputs": [],
   "source": [
    "a = 0.24250109\n",
    "b = −0.0607718825\n",
    "c = 0.93240737\n",
    "d = 0.86473146"
   ]
  },
  {
   "cell_type": "code",
   "execution_count": 4,
   "metadata": {
    "collapsed": false
   },
   "outputs": [
    {
     "name": "stdout",
     "output_type": "stream",
     "text": [
      "fs\n"
     ]
    }
   ],
   "source": []
  }
 ],
 "metadata": {
  "kernelspec": {
   "display_name": "Python 2",
   "language": "python",
   "name": "python2"
  },
  "language_info": {
   "codemirror_mode": {
    "name": "ipython",
    "version": 2
   },
   "file_extension": ".py",
   "mimetype": "text/x-python",
   "name": "python",
   "nbconvert_exporter": "python",
   "pygments_lexer": "ipython2",
   "version": "2.7.9"
  }
 },
 "nbformat": 4,
 "nbformat_minor": 0
}
