{
 "cells": [
  {
   "cell_type": "code",
   "execution_count": 45,
   "metadata": {
    "collapsed": false
   },
   "outputs": [
    {
     "name": "stdout",
     "output_type": "stream",
     "text": [
      "Populating the interactive namespace from numpy and matplotlib\n"
     ]
    }
   ],
   "source": [
    "%pylab inline"
   ]
  },
  {
   "cell_type": "markdown",
   "metadata": {},
   "source": [
    "# Examen 3\n",
    "\n",
    "Sebastian Puerto, 201318158\n",
    "\n",
    "Métodos Computacionales, 201519"
   ]
  },
  {
   "cell_type": "markdown",
   "metadata": {},
   "source": [
    "## Punto 1"
   ]
  },
  {
   "cell_type": "code",
   "execution_count": 46,
   "metadata": {
    "collapsed": false
   },
   "outputs": [],
   "source": [
    "def generar(N):\n",
    "    return random.random((N, 2)) - 0.5"
   ]
  },
  {
   "cell_type": "markdown",
   "metadata": {},
   "source": [
    "## Punto 2"
   ]
  },
  {
   "cell_type": "code",
   "execution_count": 47,
   "metadata": {
    "collapsed": true
   },
   "outputs": [],
   "source": [
    "def distancias(puntos):\n",
    "    res = []\n",
    "    N = len(puntos)\n",
    "    \n",
    "    for i in range(N - 1):\n",
    "        for j in range(i + 1, N):\n",
    "            d = np.sqrt(np.sum((puntos[i] - puntos[j])**2))\n",
    "            res.append(d)\n",
    "    \n",
    "    return np.array(res)"
   ]
  },
  {
   "cell_type": "markdown",
   "metadata": {},
   "source": [
    "## Punto 3\n",
    "\n",
    "Para cada N elegido exponencialmente entre 2 y 128, se hará 1000 veces el proceso de calcular las distancias y escoger la mínima, y finalmente se hallará el promedio de estos 1000 valores.\n",
    "\n",
    "Para poder concluir algo, se hará una gráfica de la distancia promedio hallada, vs el número de puntos."
   ]
  },
  {
   "cell_type": "markdown",
   "metadata": {},
   "source": [
    "## Punto 4"
   ]
  },
  {
   "cell_type": "code",
   "execution_count": 48,
   "metadata": {
    "collapsed": false
   },
   "outputs": [],
   "source": [
    "max_exp = 7\n",
    "iteraciones = 1000\n",
    "\n",
    "Ns = np.logspace(1, max_exp, max_exp, base = 2.)\n",
    "\n",
    "\n",
    "promedios = array([])\n",
    "\n",
    "for N in Ns:\n",
    "    d_mins = []\n",
    "    for i in range(iteraciones):\n",
    "        dists = distancias(generar(N))\n",
    "        d_min = np.min(dists)\n",
    "        d_mins.append(d_min)\n",
    "    \n",
    "    promedios = np.append(promedios, np.average(d_mins))"
   ]
  },
  {
   "cell_type": "code",
   "execution_count": 50,
   "metadata": {
    "collapsed": false
   },
   "outputs": [
    {
     "data": {
      "image/png": "[encoded data removed]",
      "text/plain": [
       "<matplotlib.figure.Figure at 0x3b03bd0>"
      ]
     },
     "metadata": {},
     "output_type": "display_data"
    }
   ],
   "source": [
    "fig = plt.figure('Distancias', figsize = (9, 5))\n",
    "ax = fig.add_subplot(111)\n",
    "\n",
    "ax.plot(Ns, promedios, 'o')\n",
    "\n",
    "ax.set_title(u'Distancias mínimas promedio\\n')\n",
    "ax.set_xlabel('N')\n",
    "ax.set_ylabel(r'$\\bard_N$')\n",
    "ax.grid(True)\n",
    "ax.set_xscale('log')\n",
    "ax.set_yscale('log')"
   ]
  }
 ],
 "metadata": {
  "kernelspec": {
   "display_name": "Python 2",
   "language": "python",
   "name": "python2"
  },
  "language_info": {
   "codemirror_mode": {
    "name": "ipython",
    "version": 2
   },
   "file_extension": ".py",
   "mimetype": "text/x-python",
   "name": "python",
   "nbconvert_exporter": "python",
   "pygments_lexer": "ipython2",
   "version": "2.7.6"
  }
 },
 "nbformat": 4,
 "nbformat_minor": 0
}
