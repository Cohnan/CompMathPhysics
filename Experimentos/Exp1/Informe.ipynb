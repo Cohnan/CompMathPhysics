{
 "cells": [
  {
   "cell_type": "code",
   "execution_count": 78,
   "metadata": {
    "collapsed": false
   },
   "outputs": [
    {
     "name": "stdout",
     "output_type": "stream",
     "text": [
      "Populating the interactive namespace from numpy and matplotlib\n"
     ]
    }
   ],
   "source": [
    "%pylab inline\n",
    "from scipy.optimize import curve_fit"
   ]
  },
  {
   "cell_type": "code",
   "execution_count": 57,
   "metadata": {
    "collapsed": true
   },
   "outputs": [],
   "source": [
    "def prob(x, k):\n",
    "    return x / (k**2) * np.exp(- x**2 / (2 * k**2))"
   ]
  },
  {
   "cell_type": "code",
   "execution_count": 66,
   "metadata": {
    "collapsed": true
   },
   "outputs": [],
   "source": [
    "data = np.genfromtxt('Rayleigh.csv', delimiter = ',')"
   ]
  },
  {
   "cell_type": "code",
   "execution_count": 67,
   "metadata": {
    "collapsed": false
   },
   "outputs": [],
   "source": [
    "vx = data[:, 2]\n",
    "vy = data[:, 3]\n",
    "speeds = np.sqrt(vx**2 + vy**2)\n",
    "\n",
    "#print len(speeds)\n",
    "#ultimas=speeds[401600-1600-1:-1]\n",
    "#print ultimas\n",
    "#len(ultimas)"
   ]
  },
  {
   "cell_type": "code",
   "execution_count": 79,
   "metadata": {
    "collapsed": false
   },
   "outputs": [
    {
     "name": "stdout",
     "output_type": "stream",
     "text": [
      "1.00621255857\n",
      "[[ 0.00011968]]\n"
     ]
    },
    {
     "data": {
      "text/plain": [
       "[<matplotlib.lines.Line2D at 0x7f88d6dc2550>]"
      ]
     },
     "execution_count": 79,
     "metadata": {},
     "output_type": "execute_result"
    },
    {
     "data": {
      "image/png": "[encoded data removed]",
      "text/plain": [
       "<matplotlib.figure.Figure at 0x7f88d6dc2150>"
      ]
     },
     "metadata": {},
     "output_type": "display_data"
    }
   ],
   "source": [
    "figure(1)\n",
    "\n",
    "probs = hist(ultimas, normed = True, bins = 30)\n",
    "\n",
    "probabilidades = probs[0]\n",
    "rapideces = probs[1]\n",
    "rapideces = array([(rapideces[i-1] + rapideces[i])/ 2 for i in range(1, len(rapideces))]) \n",
    "\n",
    "par, err = curve_fit(prob, rapideces, probabilidades)\n",
    "\n",
    "print par[0]\n",
    "print err\n",
    "\n",
    "x = linspace(0, max(rapideces), 100)\n",
    "y = prob(x, par[0])\n",
    "\n",
    "plot(x, y)"
   ]
  },
  {
   "cell_type": "code",
   "execution_count": null,
   "metadata": {
    "collapsed": true
   },
   "outputs": [],
   "source": []
  },
  {
   "cell_type": "code",
   "execution_count": 93,
   "metadata": {
    "collapsed": false
   },
   "outputs": [
    {
     "name": "stdout",
     "output_type": "stream",
     "text": [
      "Using matplotlib backend: TkAgg\n",
      "Populating the interactive namespace from numpy and matplotlib\n"
     ]
    }
   ],
   "source": [
    "%pylab\n",
    "from matplotlib import animation"
   ]
  },
  {
   "cell_type": "code",
   "execution_count": 98,
   "metadata": {
    "collapsed": false
   },
   "outputs": [
    {
     "name": "stdout",
     "output_type": "stream",
     "text": [
      "501\n",
      "0.0 4.23591427435\n",
      "0.0 0.602533076577\n",
      "501\n",
      "801600\n"
     ]
    }
   ],
   "source": [
    "xs = data[:, 0]\n",
    "ys = data[:, 1]\n",
    "t = linspace(0, 0.005 * 1000, len(xs) / 1600)\n",
    "print len(xs) / 1600\n",
    "print min(x), max(x)\n",
    "print min(y), max(y)\n",
    "print len(t)\n",
    "print len(t) * 1600"
   ]
  },
  {
   "cell_type": "code",
   "execution_count": 110,
   "metadata": {
    "collapsed": false
   },
   "outputs": [],
   "source": [
    "fig = figure(2)\n",
    "\n",
    "ax = fig.add_subplot(111, autoscale_on=False, xlim=(min(xs) - 0.1, max(xs) + 0.1), ylim=(min(ys) - 0.1, max(ys) + 0.1))\n",
    "ax.grid()\n",
    "\n",
    "line, = ax.plot([], [], 'go', lw=2)\n",
    "time_template = 'time = %.1fs'\n",
    "time_text = ax.text(0.05, 0.9, '', transform=ax.transAxes)\n",
    "\n",
    "dt = 0.01\n",
    "def init():\n",
    "    line.set_data([], [])\n",
    "    time_text.set_text('')\n",
    "    return line, time_text\n",
    "\n",
    "def animate(i):\n",
    "    thisx = xs[1600 * i : 1600 * (i + 1)]\n",
    "    thisy = ys[1600 * i : 1600 * (i + 1)]\n",
    "\n",
    "    line.set_data(thisx, thisy)\n",
    "    time_text.set_text(time_template%(i*dt))\n",
    "    return line, time_text\n",
    "\n",
    "ani = animation.FuncAnimation(fig, animate, np.arange(1, len(t)),\n",
    "    interval=1, blit=False, init_func=init)\n",
    "\n",
    "show()"
   ]
  }
 ],
 "metadata": {
  "kernelspec": {
   "display_name": "Python 2",
   "language": "python",
   "name": "python2"
  },
  "language_info": {
   "codemirror_mode": {
    "name": "ipython",
    "version": 2
   },
   "file_extension": ".py",
   "mimetype": "text/x-python",
   "name": "python",
   "nbconvert_exporter": "python",
   "pygments_lexer": "ipython2",
   "version": "2.7.9"
  }
 },
 "nbformat": 4,
 "nbformat_minor": 0
}
