{
 "cells": [
  {
   "cell_type": "code",
   "execution_count": 1,
   "metadata": {
    "collapsed": false
   },
   "outputs": [
    {
     "name": "stdout",
     "output_type": "stream",
     "text": [
      "Using matplotlib backend: TkAgg\n",
      "Populating the interactive namespace from numpy and matplotlib\n"
     ]
    }
   ],
   "source": [
    "%pylab\n",
    "from scipy.optimize import curve_fit\n",
    "from matplotlib import animation"
   ]
  },
  {
   "cell_type": "markdown",
   "metadata": {},
   "source": [
    "#Informe Laboratorio 1\n",
    "\n",
    "Estudiante: Sebastián Camilo Puerto\n",
    "\n",
    "Código: 201318518"
   ]
  },
  {
   "cell_type": "markdown",
   "metadata": {},
   "source": [
    "##Introducción"
   ]
  },
  {
   "cell_type": "markdown",
   "metadata": {},
   "source": [
    "El experimento consiste en simular un gas formado por discos suaves que interactúan de acuerdo al potencial de Lennard Jones truncado. Las velocidades iniciales de las partículas tienen una distribución uniforme y sus posiciones iniciales se toman en una cuadrícula.\n",
    "\n",
    "Se quiere demostrar que la distribución de las velocidades de las partículas, luego de que ha ocurrido suficiente tiempo para que se haya llegado a un equilibrio térmico, corresponde a la distribución de Rayleigh."
   ]
  },
  {
   "cell_type": "markdown",
   "metadata": {},
   "source": [
    "##Análisis de Resultados"
   ]
  },
  {
   "cell_type": "markdown",
   "metadata": {},
   "source": [
    "La simulación hecha consiste en 1600 partículas que no interactuan entre sí, a una temperatura de 1K, con una densidad de 0.3 particulas por unidad; inicialmente con una distribución de velocidades uniforme, ubicados inicialmente en una cuadrícula. \n",
    "\n",
    "La interacción de las partículas fue calculada con pasos cada 1ms, con un tiempo total de simulación de 5 segundos. Los datos se extrajeron cada 2 pasos."
   ]
  },
  {
   "cell_type": "code",
   "execution_count": 2,
   "metadata": {
    "collapsed": true
   },
   "outputs": [],
   "source": [
    "#Extracción de datos de archivo csv\n",
    "data = np.genfromtxt('Rayleigh.csv', delimiter = ',')"
   ]
  },
  {
   "cell_type": "markdown",
   "metadata": {},
   "source": [
    "Extracción de información de posiciones:"
   ]
  },
  {
   "cell_type": "code",
   "execution_count": 3,
   "metadata": {
    "collapsed": false
   },
   "outputs": [],
   "source": [
    "xs = data[:, 0]\n",
    "ys = data[:, 1]\n",
    "\n",
    "#Variable con los tiempos correspondiente a cada cuadro de tiempo\n",
    "t = linspace(0, 0.005 * 1000, len(xs) / 1600)"
   ]
  },
  {
   "cell_type": "markdown",
   "metadata": {},
   "source": [
    "Animación con las posiciones de las partículas:"
   ]
  },
  {
   "cell_type": "code",
   "execution_count": 4,
   "metadata": {
    "collapsed": false
   },
   "outputs": [],
   "source": [
    "fig = figure(2)\n",
    "\n",
    "ax = fig.add_subplot(111, autoscale_on=False, xlim=(min(xs) - 0.1, max(xs) + 0.1), ylim=(min(ys) - 0.1, max(ys) + 0.1))\n",
    "ax.grid()\n",
    "\n",
    "line, = ax.plot([], [], 'go', lw=2)\n",
    "time_template = 'time = %.1fs'\n",
    "time_text = ax.text(0.05, 0.9, '', transform=ax.transAxes)\n",
    "\n",
    "dt = 0.01\n",
    "def init():\n",
    "    line.set_data([], [])\n",
    "    time_text.set_text('')\n",
    "    return line, time_text\n",
    "\n",
    "def animate(i):\n",
    "    thisx = xs[1600 * i : 1600 * (i + 1)]\n",
    "    thisy = ys[1600 * i : 1600 * (i + 1)]\n",
    "\n",
    "    line.set_data(thisx, thisy)\n",
    "    time_text.set_text(time_template%(i*dt))\n",
    "    return line, time_text\n",
    "\n",
    "ani = animation.FuncAnimation(fig, animate, np.arange(1, len(t)),\n",
    "    interval=5,blit=False, init_func=init)\n",
    "\n",
    "show()"
   ]
  },
  {
   "cell_type": "code",
   "execution_count": 5,
   "metadata": {
    "collapsed": false
   },
   "outputs": [
    {
     "name": "stdout",
     "output_type": "stream",
     "text": [
      "Populating the interactive namespace from numpy and matplotlib\n"
     ]
    }
   ],
   "source": [
    "%pylab inline"
   ]
  },
  {
   "cell_type": "markdown",
   "metadata": {},
   "source": [
    "Analizando ahora para las rapideces, se extraen las velocidades y se calculan sus rapideces. Se extraen los datos del último cuadro de tiempo, donde se espera que se haya alcanzado el equilibrio térmico."
   ]
  },
  {
   "cell_type": "code",
   "execution_count": 6,
   "metadata": {
    "collapsed": false
   },
   "outputs": [],
   "source": [
    "#Extracción de velocidades de cada partícula, y cálculo de sus rapideces\n",
    "vx = data[:, 2]\n",
    "vy = data[:, 3]\n",
    "speeds = np.sqrt(vx**2 + vy**2)\n",
    "\n",
    "#Separación de las velocidades del último cuadro de tiempo en una variable en una variable aparte\n",
    "\n",
    "ultimas = speeds[len(speeds) - 1600 - 1 : ]"
   ]
  },
  {
   "cell_type": "markdown",
   "metadata": {},
   "source": [
    "La distribución de Rayleigh está descrita por la siguiente función, con *k* factor para escalación de la función."
   ]
  },
  {
   "cell_type": "code",
   "execution_count": 7,
   "metadata": {
    "collapsed": true
   },
   "outputs": [],
   "source": [
    "def prob(x, k):\n",
    "    return x / (k**2) * np.exp(- x**2 / (2 * k**2))"
   ]
  },
  {
   "cell_type": "markdown",
   "metadata": {},
   "source": [
    "Se generó el histograma de estas rapideces y se hizo el fit de éstos a una curva descrita por la distribución de Rayleigh."
   ]
  },
  {
   "cell_type": "code",
   "execution_count": 8,
   "metadata": {
    "collapsed": false
   },
   "outputs": [
    {
     "data": {
      "text/plain": [
       "[<matplotlib.lines.Line2D at 0x7f7203916790>]"
      ]
     },
     "execution_count": 8,
     "metadata": {},
     "output_type": "execute_result"
    },
    {
     "data": {
      "image/png": "[encoded data removed]",
      "text/plain": [
       "<matplotlib.figure.Figure at 0x7f7203af8850>"
      ]
     },
     "metadata": {},
     "output_type": "display_data"
    }
   ],
   "source": [
    "figure(1)\n",
    "\n",
    "#Histograma\n",
    "probs = hist(ultimas, normed = True, bins = 30)\n",
    "\n",
    "probabilidades = probs[0]\n",
    "rapideces = probs[1]\n",
    "rapideces = array([(rapideces[i-1] + rapideces[i])/ 2 for i in range(1, len(rapideces))]) #Promedio de extremos de cada bin\n",
    "\n",
    "#Fit de la curva\n",
    "par, err = curve_fit(prob, rapideces, probabilidades)\n",
    "\n",
    "x = linspace(0, max(rapideces), 100)\n",
    "y = prob(x, par[0])\n",
    "\n",
    "plt.xlabel(\"Rapideces\")\n",
    "plt.ylabel(\"Probabilidades\")\n",
    "plt.title(\"Distribucion de Rapideces\")\n",
    "\n",
    "plot(x, y)"
   ]
  },
  {
   "cell_type": "markdown",
   "metadata": {},
   "source": [
    "El error de la regresión para el factor de escalación fue de *0.000137*, correspondiente a un error porcentual de *0.014%*."
   ]
  },
  {
   "cell_type": "markdown",
   "metadata": {},
   "source": [
    "##Conclusiones"
   ]
  },
  {
   "cell_type": "markdown",
   "metadata": {},
   "source": [
    "+ La distribución de rapideces de las partículas del gas en el equilibrio térmico está adecuadamente descrito por la distribución de Rayleigh"
   ]
  }
 ],
 "metadata": {
  "kernelspec": {
   "display_name": "Python 2",
   "language": "python",
   "name": "python2"
  },
  "language_info": {
   "codemirror_mode": {
    "name": "ipython",
    "version": 2
   },
   "file_extension": ".py",
   "mimetype": "text/x-python",
   "name": "python",
   "nbconvert_exporter": "python",
   "pygments_lexer": "ipython2",
   "version": "2.7.9"
  }
 },
 "nbformat": 4,
 "nbformat_minor": 0
}
