{
 "cells": [
  {
   "cell_type": "code",
   "execution_count": 1,
   "metadata": {
    "collapsed": false
   },
   "outputs": [
    {
     "name": "stdout",
     "output_type": "stream",
     "text": [
      "Populating the interactive namespace from numpy and matplotlib\n"
     ]
    }
   ],
   "source": [
    "%pylab inline"
   ]
  },
  {
   "cell_type": "markdown",
   "metadata": {},
   "source": [
    "# Taller 6\n",
    "\n",
    "Métodos Computacionales, 2015-19\n",
    "\n",
    "Sebastián Puerto, 201318518"
   ]
  },
  {
   "cell_type": "markdown",
   "metadata": {},
   "source": [
    "Lectura de archivo:"
   ]
  },
  {
   "cell_type": "code",
   "execution_count": 2,
   "metadata": {
    "collapsed": false
   },
   "outputs": [],
   "source": [
    "data = np.genfromtxt('datos_caminata.csv', delimiter = ';')"
   ]
  },
  {
   "cell_type": "code",
   "execution_count": 3,
   "metadata": {
    "collapsed": false
   },
   "outputs": [],
   "source": [
    "lons = data[:, 0]\n",
    "lats = data[:, 1]\n",
    "years = data[:, 2]\n",
    "months = data[:, 3]\n",
    "days = data[:, 4]\n",
    "hours = data[:, 5]\n",
    "minutes = data[:, 6]\n",
    "seconds = data[:, 7]"
   ]
  },
  {
   "cell_type": "markdown",
   "metadata": {},
   "source": [
    "Para cambio de coordenadas:"
   ]
  },
  {
   "cell_type": "code",
   "execution_count": 4,
   "metadata": {
    "collapsed": true
   },
   "outputs": [],
   "source": [
    "R = 6.3674447E6 #metros\n",
    "\n",
    "def xyz(lon, lat, r = R):\n",
    "    # Función para cambio de coordenadas geográficas a cartesianas\n",
    "    \n",
    "    return array([r*np.sin(np.pi/180. * (90 - lat))*cos(np.pi/180. * (lon)),\n",
    "                  r*np.sin(np.pi/180. * (90 - lat))*sin(np.pi/180. * (lon)),\n",
    "                  r*np.cos(np.pi/180. * (90 - lat))]\n",
    "                  )\n",
    "\n",
    "xyz_vec = np.vectorize(xyz)"
   ]
  },
  {
   "cell_type": "markdown",
   "metadata": {},
   "source": [
    "Vectores de desplazamiento espacio temporales:"
   ]
  },
  {
   "cell_type": "code",
   "execution_count": 5,
   "metadata": {
    "collapsed": false
   },
   "outputs": [],
   "source": [
    "poss = array([xyz(lons[i], lats[i], R) for i in range(len(lons))])\n",
    "\n",
    "r_0 = xyz(lons[0], lats[0], R)\n",
    "t_0 = seconds[0] + 60 * minutes[0] + 3600 * hours[0]\n",
    "\n",
    "disps = poss - r_0\n",
    "dtimes = array([(seconds[i] - seconds[0]) + \n",
    "                60 * (minutes[i] - minutes[0]) + \n",
    "                3600 * (hours[i] - hours[0]) \n",
    "               for i in range(len(lons))])\n",
    "\n",
    "#vects = array([np.append(disps[i], dtimes[i]) for i in range(len(lons))])\n",
    "vects = array([array([disps[i, 1], disps[i, 2], dtimes[i]]) for i in range(len(lons))])"
   ]
  },
  {
   "cell_type": "markdown",
   "metadata": {},
   "source": [
    "Vector Unitario y coordenadas de los vectores de desplazamiento espacio temporales"
   ]
  },
  {
   "cell_type": "code",
   "execution_count": 19,
   "metadata": {
    "collapsed": false
   },
   "outputs": [
    {
     "data": {
      "text/plain": [
       "[<matplotlib.lines.Line2D at 0x3dec050>]"
      ]
     },
     "execution_count": 19,
     "metadata": {},
     "output_type": "execute_result"
    },
    {
     "data": {
      "image/png": "[encoded data removed]",
      "text/plain": [
       "<matplotlib.figure.Figure at 0x3e0af90>"
      ]
     },
     "metadata": {},
     "output_type": "display_data"
    }
   ],
   "source": [
    "unit_v = np.append(xyz(-74.0758, 4.5981, R)[1 : 3]- r_0[1 : 3], 1) \n",
    "\n",
    "coords = vects / unit_v\n",
    "plt.figure(1, figsize = (4, 8))\n",
    "plt.plot(coords[:, 0], coords[:, 1])\n",
    "#plt.axis('scaled')"
   ]
  },
  {
   "cell_type": "code",
   "execution_count": null,
   "metadata": {
    "collapsed": true
   },
   "outputs": [],
   "source": []
  }
 ],
 "metadata": {
  "kernelspec": {
   "display_name": "Python 2",
   "language": "python",
   "name": "python2"
  },
  "language_info": {
   "codemirror_mode": {
    "name": "ipython",
    "version": 2
   },
   "file_extension": ".py",
   "mimetype": "text/x-python",
   "name": "python",
   "nbconvert_exporter": "python",
   "pygments_lexer": "ipython2",
   "version": "2.7.6"
  }
 },
 "nbformat": 4,
 "nbformat_minor": 0
}
