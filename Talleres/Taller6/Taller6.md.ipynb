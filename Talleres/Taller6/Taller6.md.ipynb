{
 "cells": [
  {
   "cell_type": "code",
   "execution_count": 1,
   "metadata": {
    "collapsed": false
   },
   "outputs": [
    {
     "name": "stdout",
     "output_type": "stream",
     "text": [
      "Populating the interactive namespace from numpy and matplotlib\n"
     ]
    }
   ],
   "source": [
    "%pylab inline"
   ]
  },
  {
   "cell_type": "markdown",
   "metadata": {},
   "source": [
    "# Taller 6\n",
    "\n",
    "Métodos Computacionales, 2015-19\n",
    "\n",
    "Sebastián Puerto, 201318518"
   ]
  },
  {
   "cell_type": "markdown",
   "metadata": {},
   "source": [
    "Lectura de archivo:"
   ]
  },
  {
   "cell_type": "code",
   "execution_count": 2,
   "metadata": {
    "collapsed": false
   },
   "outputs": [],
   "source": [
    "data = np.genfromtxt('datos_caminata.csv', delimiter = ';')"
   ]
  },
  {
   "cell_type": "code",
   "execution_count": 3,
   "metadata": {
    "collapsed": false
   },
   "outputs": [],
   "source": [
    "lons = data[:, 0]\n",
    "lats = data[:, 1]\n",
    "years = data[:, 2]\n",
    "months = data[:, 3]\n",
    "days = data[:, 4]\n",
    "hours = data[:, 5]\n",
    "minutes = data[:, 6]\n",
    "seconds = data[:, 7]"
   ]
  },
  {
   "cell_type": "markdown",
   "metadata": {},
   "source": [
    "Para cambio de coordenadas:"
   ]
  },
  {
   "cell_type": "code",
   "execution_count": 4,
   "metadata": {
    "collapsed": true
   },
   "outputs": [],
   "source": [
    "R = 6.3674447E6 #metros\n",
    "\n",
    "def xyz(lon, lat, r = R):\n",
    "    # Función para cambio de coordenadas geográficas a cartesianas\n",
    "    \n",
    "    return array([r*np.sin(np.pi/180. * (90 - lat))*cos(np.pi/180. * (lon)),\n",
    "                  r*np.sin(np.pi/180. * (90 - lat))*sin(np.pi/180. * (lon)),\n",
    "                  r*np.cos(np.pi/180. * (90 - lat))]\n",
    "                  )\n",
    "\n",
    "xyz_vec = np.vectorize(xyz)"
   ]
  },
  {
   "cell_type": "markdown",
   "metadata": {},
   "source": [
    "Vectores de desplazamiento espacio temporales:"
   ]
  },
  {
   "cell_type": "code",
   "execution_count": 5,
   "metadata": {
    "collapsed": false
   },
   "outputs": [],
   "source": [
    "poss = array([xyz(lons[i], lats[i], R) for i in range(len(lons))])\n",
    "\n",
    "r_0 = xyz(lons[0], lats[0], R)\n",
    "t_0 = seconds[0] + 60 * minutes[0] + 3600 * hours[0]\n",
    "\n",
    "disps = poss - r_0\n",
    "dtimes = array([(seconds[i] - seconds[0]) + \n",
    "                60 * (minutes[i] - minutes[0]) + \n",
    "                3600 * (hours[i] - hours[0]) \n",
    "               for i in range(len(lons))])\n",
    "\n",
    "#vects = array([np.append(disps[i], dtimes[i]) for i in range(len(lons))])\n",
    "vects = array([array([disps[i, 1], disps[i, 2], dtimes[i]]) for i in range(len(lons))])"
   ]
  },
  {
   "cell_type": "markdown",
   "metadata": {},
   "source": [
    "Vector Unitario y coordenadas de los vectores de desplazamiento espacio temporales"
   ]
  },
  {
   "cell_type": "code",
   "execution_count": 10,
   "metadata": {
    "collapsed": false
   },
   "outputs": [
    {
     "data": {
      "text/plain": [
       "[<matplotlib.lines.Line2D at 0x2cb7a10>]"
      ]
     },
     "execution_count": 10,
     "metadata": {},
     "output_type": "execute_result"
    },
    {
     "data": {
      "image/png": "[encoded data removed]",
      "text/plain": [
       "<matplotlib.figure.Figure at 0x2c33610>"
      ]
     },
     "metadata": {},
     "output_type": "display_data"
    }
   ],
   "source": [
    "# Una proyección en el plano tangente es simplemente eliminación de\n",
    "# la otra coordenada, en micaso x, ya que es ortogonal, es decir \n",
    "# que mis vectoers unitarios son vectores de 1m en direcciones \n",
    "# norte y oriente\n",
    "plt.figure(1, figsize = (3, 8))\n",
    "plt.plot(vects[:, 0], vects[:, 1]) \n",
    "#plt.axis('scaled')"
   ]
  },
  {
   "cell_type": "code",
   "execution_count": 15,
   "metadata": {
    "collapsed": false,
    "scrolled": true
   },
   "outputs": [
    {
     "data": {
      "text/plain": [
       "[<matplotlib.lines.Line2D at 0x2d9c810>]"
      ]
     },
     "execution_count": 15,
     "metadata": {},
     "output_type": "execute_result"
    },
    {
     "data": {
      "image/png": "[encoded data removed]",
      "text/plain": [
       "<matplotlib.figure.Figure at 0x2d9c450>"
      ]
     },
     "metadata": {},
     "output_type": "display_data"
    }
   ],
   "source": [
    "dys = (np.roll(vects, -1, axis = 0) - vects)[:-1, 0]\n",
    "dzs = (np.roll(vects, -1, axis = 0) - vects)[:-1, 1]\n",
    "\n",
    "distancias = {}\n",
    "\n",
    "def distancia(t):\n",
    "    i = 0\n",
    "    \n",
    "    if t >= dtimes[-1]:\n",
    "        i = len(dtimes) - 1\n",
    "        \n",
    "    else:\n",
    "        while t >= dtimes[i + 1]:\n",
    "            i += 1\n",
    "        \n",
    "    t_efectivo = dtimes[i]\n",
    "    \n",
    "    if t_efectivo == 0:\n",
    "        return 0.\n",
    "    \n",
    "    if t_efectivo not in distancias:\n",
    "        suma = np.sqrt(dys[i - 1]**2 + dzs[i - 1]**2) + distancia(dtimes[i - 1])\n",
    "        distancias[t_efectivo] = suma\n",
    "      \n",
    "    return distancias[t_efectivo]\n",
    "\n",
    "fig_2 = plt.figure('distancia vs tiempo')\n",
    "ax = fig_2.add_subplot(111)\n",
    "t = np.linspace(0, max(dtimes), 1000)\n",
    "d = array([distancia(e) for e in t])\n",
    "\n",
    "ax.plot(t, d)"
   ]
  },
  {
   "cell_type": "code",
   "execution_count": 27,
   "metadata": {
    "collapsed": false
   },
   "outputs": [
    {
     "name": "stdout",
     "output_type": "stream",
     "text": [
      "[ -3.41274623e+02  -2.06731561e+03   1.65416667e+00]\n",
      "[[  0.00000000e+00   0.00000000e+00   0.00000000e+00]\n",
      " [ -1.39734240e-02   1.52173384e-01   1.84166667e-01]\n",
      " [ -9.56643106e-04   1.46554197e-01   3.15555556e-01]\n",
      " [  3.98203130e-05   1.54344766e-01   5.18611111e-01]\n",
      " [  2.23655481e-03   1.65949923e-01   6.62222222e-01]\n",
      " [ -2.83883017e-03   1.45541863e-01   1.01750000e+00]\n",
      " [ -3.03684652e-02  -7.79063786e-02   1.35222222e+00]\n",
      " [ -3.77553060e-02  -3.42261973e-01   1.47611111e+00]\n",
      " [ -9.47985063e-02  -5.74254336e-01   1.65416667e+00]\n",
      " [ -9.47985063e-02  -5.74254336e-01   1.65416667e+00]]\n"
     ]
    }
   ],
   "source": [
    "def indice(d):\n",
    "    # Calcula el tiempo que se requiere para calcular una \n",
    "    # distancia dada en metros\n",
    "    if d >= distancia(dtimes[-1]):\n",
    "        return vects[-1]\n",
    "                         \n",
    "    t = 0\n",
    "    i = 0\n",
    "    \n",
    "    while distancia(t) < d:\n",
    "        i += 1\n",
    "        t = dtimes[i]\n",
    "    \n",
    "    return vects[i]\n",
    "\n",
    "print indice(8000)/array([1, 1, 3600])\n",
    "\n",
    "distancias_a_calcular = np.arange(10)*1000\n",
    "#print np.arange(10)*1000\n",
    "tiempos_distancia = array([indice(d) for d in distancias_a_calcular])/3600\n",
    "print tiempos_distancia"
   ]
  },
  {
   "cell_type": "code",
   "execution_count": 9,
   "metadata": {
    "collapsed": false
   },
   "outputs": [
    {
     "name": "stdout",
     "output_type": "stream",
     "text": [
      "[  0.00000000e+00   2.00000000e+00   1.00000000e+01 ...,   5.95200000e+03\n",
      "   5.95400000e+03   5.95500000e+03]\n"
     ]
    }
   ],
   "source": [
    "print dtimes"
   ]
  },
  {
   "cell_type": "code",
   "execution_count": 28,
   "metadata": {
    "collapsed": false
   },
   "outputs": [
    {
     "name": "stdout",
     "output_type": "stream",
     "text": [
      "10.7937721504\n",
      "[  2.21738123  10.56355706   2.        ]\n"
     ]
    }
   ],
   "source": [
    "print distancia(2)\n",
    "print indice(distancia(2))"
   ]
  }
 ],
 "metadata": {
  "kernelspec": {
   "display_name": "Python 2",
   "language": "python",
   "name": "python2"
  },
  "language_info": {
   "codemirror_mode": {
    "name": "ipython",
    "version": 2
   },
   "file_extension": ".py",
   "mimetype": "text/x-python",
   "name": "python",
   "nbconvert_exporter": "python",
   "pygments_lexer": "ipython2",
   "version": "2.7.6"
  }
 },
 "nbformat": 4,
 "nbformat_minor": 0
}
